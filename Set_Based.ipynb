{
  "nbformat": 4,
  "nbformat_minor": 0,
  "metadata": {
    "colab": {
      "provenance": []
    },
    "kernelspec": {
      "name": "python3",
      "display_name": "Python 3"
    },
    "language_info": {
      "name": "python"
    }
  },
  "cells": [
    {
      "cell_type": "code",
      "execution_count": null,
      "metadata": {
        "colab": {
          "base_uri": "https://localhost:8080/"
        },
        "id": "XfaNbtoNHfvL",
        "outputId": "e18c18ed-1270-441e-e6e4-a9a423319b37"
      },
      "outputs": [
        {
          "output_type": "stream",
          "name": "stdout",
          "text": [
            "{1, 2, 3, 4, 5}\n"
          ]
        }
      ],
      "source": [
        "#1. Create a set with integers from 1 to 5.\n",
        "s={1,2,3,4,5}\n",
        "print(s)\n"
      ]
    },
    {
      "cell_type": "code",
      "source": [
        "#2. Add an element to a set.\n",
        "s = set([1, 2, 3, 4, 5])\n",
        "\n",
        "s.add(6)\n",
        "print(\"Set after adding 6 to it:\", s)"
      ],
      "metadata": {
        "colab": {
          "base_uri": "https://localhost:8080/"
        },
        "id": "nmTY8JKOI6Xi",
        "outputId": "fb38eda8-4818-4f87-f4db-459059dc84a7"
      },
      "execution_count": null,
      "outputs": [
        {
          "output_type": "stream",
          "name": "stdout",
          "text": [
            "Set after adding 6 to it: {1, 2, 3, 4, 5, 6}\n"
          ]
        }
      ]
    },
    {
      "cell_type": "code",
      "source": [
        "#3. Remove an element from a set.\n",
        "s={1,2,3,4,5,6}\n",
        "s.remove(5)\n",
        "print(s)\n"
      ],
      "metadata": {
        "colab": {
          "base_uri": "https://localhost:8080/"
        },
        "id": "dtoNkUfmJKNB",
        "outputId": "e401e861-2c10-48c4-efdf-2debf55ccf8d"
      },
      "execution_count": null,
      "outputs": [
        {
          "output_type": "stream",
          "name": "stdout",
          "text": [
            "{1, 2, 3, 4, 6}\n"
          ]
        }
      ]
    },
    {
      "cell_type": "code",
      "source": [
        "#4. Check if an element exists in a set.\n",
        "s={1,2,4,5}\n",
        "if 3 in s:\n",
        "  print(\"3 is present in the set\")\n",
        "else:\n",
        "  print(\"3 is not present in the set\")\n"
      ],
      "metadata": {
        "colab": {
          "base_uri": "https://localhost:8080/"
        },
        "id": "AZ_4APZZKDbp",
        "outputId": "f2a04a3a-2dab-4288-a4f6-f89a1b592961"
      },
      "execution_count": null,
      "outputs": [
        {
          "output_type": "stream",
          "name": "stdout",
          "text": [
            "3 is not present in the set\n"
          ]
        }
      ]
    },
    {
      "cell_type": "code",
      "source": [
        "#5. Find the length of a set without using the `len()` function.\n",
        "\n",
        "s={1,2,3,4,5}\n",
        "pos=0\n",
        "for i in s:\n",
        "    pos+=1\n",
        "print(pos)"
      ],
      "metadata": {
        "colab": {
          "base_uri": "https://localhost:8080/"
        },
        "id": "d5eV7KyjMc3Y",
        "outputId": "4e7404e4-5b04-4de9-8f2e-045227beb33d"
      },
      "execution_count": null,
      "outputs": [
        {
          "output_type": "stream",
          "name": "stdout",
          "text": [
            "5\n"
          ]
        }
      ]
    },
    {
      "cell_type": "code",
      "source": [
        "#6. Clear all elements from a set.\n",
        "\n",
        "s={1,2,3,4,5}\n",
        "s.clear()\n",
        "print(s)"
      ],
      "metadata": {
        "colab": {
          "base_uri": "https://localhost:8080/"
        },
        "id": "1ErZlIc1OoxZ",
        "outputId": "7713dbaa-973d-4fa0-b940-40109336a5da"
      },
      "execution_count": null,
      "outputs": [
        {
          "output_type": "stream",
          "name": "stdout",
          "text": [
            "set()\n"
          ]
        }
      ]
    },
    {
      "cell_type": "code",
      "source": [
        "#7. Create a set of even numbers from 1 to 10.\n",
        "evens={x for x in range(1,10)if x%2==0}\n",
        "\n",
        "print(evens)\n"
      ],
      "metadata": {
        "colab": {
          "base_uri": "https://localhost:8080/"
        },
        "id": "AvhWe9p_PAUi",
        "outputId": "88247728-0528-4602-c038-a3d6158ca629"
      },
      "execution_count": null,
      "outputs": [
        {
          "output_type": "stream",
          "name": "stdout",
          "text": [
            "{8, 2, 4, 6}\n"
          ]
        }
      ]
    },
    {
      "cell_type": "code",
      "source": [
        "#8. Create a set of odd numbers from 1 to 10.\n",
        "odd={x for x in range(1,10)if x%2!=0}\n",
        "\n",
        "print(odd)\n"
      ],
      "metadata": {
        "colab": {
          "base_uri": "https://localhost:8080/"
        },
        "id": "sFErfnTOPag6",
        "outputId": "dcd5bc99-62a8-4217-c2e6-de1342d9e781"
      },
      "execution_count": null,
      "outputs": [
        {
          "output_type": "stream",
          "name": "stdout",
          "text": [
            "{1, 3, 5, 7, 9}\n"
          ]
        }
      ]
    },
    {
      "cell_type": "code",
      "source": [
        "#9. Find the union of two sets.\n",
        "\n",
        "s=[{1,2,3,4},{5,6,7},{8,9,10}]\n",
        "\n",
        "\n",
        "res = set().union(*s)\n",
        "print(\"Multiple set union : \" + str(res))"
      ],
      "metadata": {
        "colab": {
          "base_uri": "https://localhost:8080/"
        },
        "id": "JfFvYh47Pqq-",
        "outputId": "e944e63b-7530-460d-dbb8-707e611efc77"
      },
      "execution_count": null,
      "outputs": [
        {
          "output_type": "stream",
          "name": "stdout",
          "text": [
            "Multiple set union : {1, 2, 3, 4, 5, 6, 7, 8, 9, 10}\n"
          ]
        }
      ]
    },
    {
      "cell_type": "code",
      "source": [
        "#10. Find the intersection of two sets.\n",
        "s1={1,2,3,4,5}\n",
        "s2={6,7,8,9,10}\n",
        "s3={11,12,13,14,15}\n",
        "\n",
        "set= s1 & s2 & s3\n",
        "print(set)\n"
      ],
      "metadata": {
        "colab": {
          "base_uri": "https://localhost:8080/"
        },
        "id": "aqJRSOklQExk",
        "outputId": "8dabb461-e2e6-48c9-8d27-eaac6e10d4de"
      },
      "execution_count": null,
      "outputs": [
        {
          "output_type": "stream",
          "name": "stdout",
          "text": [
            "set()\n"
          ]
        }
      ]
    },
    {
      "cell_type": "code",
      "source": [
        "#11. Find the difference between two sets.\n",
        "s= {10, 20, 30, 40, 80}\n",
        "s1= {100, 30, 80, 40, 60}\n",
        "print (s.difference(s1))\n",
        "print (s1.difference(s))\n"
      ],
      "metadata": {
        "colab": {
          "base_uri": "https://localhost:8080/"
        },
        "id": "jMcMk-0JQ5o-",
        "outputId": "1b2c35f1-dd0c-4542-82cb-cde81b9f9d40"
      },
      "execution_count": null,
      "outputs": [
        {
          "output_type": "stream",
          "name": "stdout",
          "text": [
            "{10, 20}\n",
            "{100, 60}\n"
          ]
        }
      ]
    },
    {
      "cell_type": "code",
      "source": [
        "#12. Check if a set is a subset of another set.\n",
        "\n",
        "s={1,2,3,4,5}\n",
        "s1={3,4,5,6,7}\n",
        "print(s.issubset(s1))"
      ],
      "metadata": {
        "colab": {
          "base_uri": "https://localhost:8080/"
        },
        "id": "rKGOV5fsRTg2",
        "outputId": "49a2af53-14bc-430f-f70a-0f81e3ae69fe"
      },
      "execution_count": null,
      "outputs": [
        {
          "output_type": "stream",
          "name": "stdout",
          "text": [
            "False\n"
          ]
        }
      ]
    },
    {
      "cell_type": "code",
      "source": [
        "#13. Check if a set is a superset of another set.\n",
        "s={1,2,3,4,5,6,7}\n",
        "s1={3,4,5,6,7}\n",
        "print(s.issuperset(s1))\n"
      ],
      "metadata": {
        "colab": {
          "base_uri": "https://localhost:8080/"
        },
        "id": "ZBsJE_RDR7j3",
        "outputId": "29149d0e-6692-4064-c417-724afd219221"
      },
      "execution_count": null,
      "outputs": [
        {
          "output_type": "stream",
          "name": "stdout",
          "text": [
            "True\n"
          ]
        }
      ]
    },
    {
      "cell_type": "code",
      "source": [
        "#14. Create a set from a list.\n",
        "set = {'i', 'am', 'yash'}\n",
        "s = list(set)\n",
        "print(s)"
      ],
      "metadata": {
        "colab": {
          "base_uri": "https://localhost:8080/"
        },
        "id": "ZiGEcvG2SSuU",
        "outputId": "7711de89-a825-476e-a9b8-92ae86dfad9e"
      },
      "execution_count": null,
      "outputs": [
        {
          "output_type": "stream",
          "name": "stdout",
          "text": [
            "['yash', 'i', 'am']\n"
          ]
        }
      ]
    },
    {
      "cell_type": "code",
      "source": [
        "\n",
        "#15. Convert a set to a list.\n",
        "\n",
        "def convert(set):\n",
        "    return sorted(set)\n",
        "\n",
        "# Driver function\n",
        "my_set = {1, 2, 3}\n",
        "\n",
        "s = convert(my_set)\n",
        "print(convert(s))"
      ],
      "metadata": {
        "colab": {
          "base_uri": "https://localhost:8080/"
        },
        "id": "Sd8AfscTTP-k",
        "outputId": "c2077324-5260-4869-c762-9dbc0db1b598"
      },
      "execution_count": null,
      "outputs": [
        {
          "output_type": "stream",
          "name": "stdout",
          "text": [
            "[1, 2, 3]\n"
          ]
        }
      ]
    },
    {
      "cell_type": "code",
      "source": [
        "#16. Remove a random element from a set.\n",
        "\n",
        "s={1,2,3,4,5,6,7,8,9}\n",
        "\n",
        "s.remove(6)\n",
        "print(s)"
      ],
      "metadata": {
        "id": "0OMkfds8TslQ",
        "colab": {
          "base_uri": "https://localhost:8080/"
        },
        "outputId": "a128e183-a896-48d9-c778-b605d997c89a"
      },
      "execution_count": 2,
      "outputs": [
        {
          "output_type": "stream",
          "name": "stdout",
          "text": [
            "{1, 2, 3, 4, 5, 7, 8, 9}\n"
          ]
        }
      ]
    },
    {
      "cell_type": "code",
      "source": [
        "#17. Pop an element from a set.\n",
        "\n",
        "s={1,2,3,4,5,6,7}\n",
        "s.pop()\n",
        "print(s)"
      ],
      "metadata": {
        "colab": {
          "base_uri": "https://localhost:8080/"
        },
        "id": "-o8cgSydIXUs",
        "outputId": "55f1db3e-c6b8-4593-916d-b0a7c3dc181a"
      },
      "execution_count": 4,
      "outputs": [
        {
          "output_type": "stream",
          "name": "stdout",
          "text": [
            "{2, 3, 4, 5, 6, 7}\n"
          ]
        }
      ]
    },
    {
      "cell_type": "code",
      "source": [
        "from re import X\n",
        "#18. Check if two sets have no elements in common.\n",
        "\n",
        "x={1,2,3,4,5,6}\n",
        "y={7,8,9,10,11,12}\n",
        "def compare_sets(x, y):\n",
        "    for i in x:\n",
        "        if i in y:\n",
        "            return False\n",
        "    return True\n",
        "print(\"\\nConfirm two given sets have no element in common:\")\n",
        "\n",
        "print(compare_sets(x, y))\n",
        "\n"
      ],
      "metadata": {
        "colab": {
          "base_uri": "https://localhost:8080/"
        },
        "id": "6h9XUuNzJUnp",
        "outputId": "603a278e-ccf6-4adc-85d8-1dc30abfd97c"
      },
      "execution_count": 11,
      "outputs": [
        {
          "output_type": "stream",
          "name": "stdout",
          "text": [
            "\n",
            "Confirm two given sets have no element in common:\n",
            "True\n"
          ]
        }
      ]
    },
    {
      "cell_type": "code",
      "source": [
        "#19. Find the symmetric difference between two sets.\n",
        "\n",
        "set1={1,2,3,9,8,7}\n",
        "set2={1,2,3,7,10,11}\n",
        "print(set1.symmetric_difference(set2))"
      ],
      "metadata": {
        "colab": {
          "base_uri": "https://localhost:8080/"
        },
        "id": "M6Tq_OJ0J8Gu",
        "outputId": "ba5a481f-084c-4607-edb5-7e933012a12a"
      },
      "execution_count": 13,
      "outputs": [
        {
          "output_type": "stream",
          "name": "stdout",
          "text": [
            "{8, 9, 10, 11}\n"
          ]
        }
      ]
    },
    {
      "cell_type": "code",
      "source": [
        "#20. Update a set with elements from another set.\n",
        "\n",
        "set={11,32,43,56,86}\n",
        "set1={43,76,25,90,67}\n",
        "set2={56,87,56,34,12}\n",
        "set1.update(set)\n",
        "print(set1)\n",
        "set1.update(set2)\n",
        "print(set)"
      ],
      "metadata": {
        "colab": {
          "base_uri": "https://localhost:8080/"
        },
        "id": "6qN9vtfwLnBr",
        "outputId": "eec1b830-1946-4621-cc56-40b7074745b0"
      },
      "execution_count": 16,
      "outputs": [
        {
          "output_type": "stream",
          "name": "stdout",
          "text": [
            "{32, 67, 43, 76, 11, 86, 56, 25, 90}\n",
            "{32, 86, 56, 43, 11}\n"
          ]
        }
      ]
    },
    {
      "cell_type": "code",
      "source": [
        "#21. Create a set of the first 5 prime numbers.\n",
        "\n",
        "i = 1\n",
        "x = int(input(\"Enter the number:\"))\n",
        "for k in range(1, x+1):\n",
        "    c = 0\n",
        "    for j in range(1, i+1):\n",
        "        a = i % j\n",
        "        if a == 0:\n",
        "            c = c + 1\n",
        "\n",
        "    if c == 2:\n",
        "        print(i)\n",
        "    else:\n",
        "        k = k - 1\n",
        "\n",
        "    i = i + 1"
      ],
      "metadata": {
        "colab": {
          "base_uri": "https://localhost:8080/"
        },
        "id": "Vs3IJVZDMOcF",
        "outputId": "5e6c399d-0149-43c6-8be4-e520320b1318"
      },
      "execution_count": 17,
      "outputs": [
        {
          "output_type": "stream",
          "name": "stdout",
          "text": [
            "Enter the number:50\n",
            "2\n",
            "3\n",
            "5\n",
            "7\n",
            "11\n",
            "13\n",
            "17\n",
            "19\n",
            "23\n",
            "29\n",
            "31\n",
            "37\n",
            "41\n",
            "43\n",
            "47\n"
          ]
        }
      ]
    },
    {
      "cell_type": "code",
      "source": [
        "#22. Check if two sets are identical.\n",
        "ste1 = {(11, 14), (54, 58)}\n",
        "set2 = {(98, 56), (10, 13)}\n",
        "\n",
        "print(\"The first  set is : \")\n",
        "print(set1)\n",
        "print(\"The second  set is : \")\n",
        "print(set2)\n",
        "\n",
        "my_result = set1 ==set2\n",
        "\n",
        "print(\"The set is identical?\")\n",
        "print(my_result)\n"
      ],
      "metadata": {
        "colab": {
          "base_uri": "https://localhost:8080/"
        },
        "id": "tS6j48JTM2JJ",
        "outputId": "76386a95-729c-4b2f-fe6f-b3d251b06d27"
      },
      "execution_count": 20,
      "outputs": [
        {
          "output_type": "stream",
          "name": "stdout",
          "text": [
            "The first  set is : \n",
            "{32, 34, 67, 43, 76, 11, 12, 86, 87, 56, 25, 90}\n",
            "The second  set is : \n",
            "{(10, 13), (98, 56)}\n",
            "The set is identical?\n",
            "False\n"
          ]
        }
      ]
    },
    {
      "cell_type": "code",
      "source": [
        "#23. Create a frozen set.\n",
        "set = ('m', 'r', 'o', 't', 's')\n",
        "\n",
        "fSet = frozenset(set)\n",
        "print('Frozen set is:', fSet)\n",
        "print('Empty frozen set is:', frozenset())\n"
      ],
      "metadata": {
        "colab": {
          "base_uri": "https://localhost:8080/"
        },
        "id": "vi-6T1pINfGy",
        "outputId": "7ec8c86a-9a94-4125-91ab-a9d8408c7ad9"
      },
      "execution_count": 21,
      "outputs": [
        {
          "output_type": "stream",
          "name": "stdout",
          "text": [
            "Frozen set is: frozenset({'m', 'r', 's', 't', 'o'})\n",
            "Empty frozen set is: frozenset()\n"
          ]
        }
      ]
    },
    {
      "cell_type": "code",
      "source": [
        "person = {\"name\": \"Prajkta\", \"age\": 22, \"sex\": \"female\"}\n",
        "\n",
        "fSet = frozenset(person)\n",
        "print('Frozen set is:', fSet)"
      ],
      "metadata": {
        "colab": {
          "base_uri": "https://localhost:8080/"
        },
        "id": "Nr9NWlO1OsSY",
        "outputId": "2bf0ec2a-95d6-4650-c470-c3db57a4fe9d"
      },
      "execution_count": 23,
      "outputs": [
        {
          "output_type": "stream",
          "name": "stdout",
          "text": [
            "Frozen set is: frozenset({'age', 'name', 'sex'})\n"
          ]
        }
      ]
    },
    {
      "cell_type": "code",
      "source": [
        "#24. Check if a set is disjoint with another set.\n",
        "set1={1,2,3,4,5,6}\n",
        "set2={4,5,6,7,8,9,10}\n",
        "print(set1.isdisjoint(set2))\n"
      ],
      "metadata": {
        "colab": {
          "base_uri": "https://localhost:8080/"
        },
        "id": "Al8ohSZFOzsF",
        "outputId": "a348cfcd-db05-41bd-c318-a4d56ae07147"
      },
      "execution_count": 25,
      "outputs": [
        {
          "output_type": "stream",
          "name": "stdout",
          "text": [
            "False\n"
          ]
        }
      ]
    },
    {
      "cell_type": "code",
      "source": [
        "#25. Create a set of squares of numbers from 1 to 5.\n",
        "\n",
        "squares = {x**2 for x in range(1, 11)}\n",
        "print(squares)"
      ],
      "metadata": {
        "colab": {
          "base_uri": "https://localhost:8080/"
        },
        "id": "sazfXLGXP2NH",
        "outputId": "35ae17d3-2700-4a52-e65a-b44fc1fd22e0"
      },
      "execution_count": 35,
      "outputs": [
        {
          "output_type": "stream",
          "name": "stdout",
          "text": [
            "{64, 1, 4, 36, 100, 9, 16, 49, 81, 25}\n"
          ]
        }
      ]
    },
    {
      "cell_type": "code",
      "source": [
        "#26. Filter out all even numbers from a set.\n",
        "\n",
        "\n",
        "evens = [x for x in range(30) if x%2 == 0]\n",
        "print(evens)"
      ],
      "metadata": {
        "colab": {
          "base_uri": "https://localhost:8080/"
        },
        "id": "YmtYynIkRt9Z",
        "outputId": "0db22a97-faef-42a5-ae56-cec38b256bf5"
      },
      "execution_count": 39,
      "outputs": [
        {
          "output_type": "stream",
          "name": "stdout",
          "text": [
            "[0, 2, 4, 6, 8, 10, 12, 14, 16, 18, 20, 22, 24, 26, 28]\n"
          ]
        }
      ]
    },
    {
      "cell_type": "code",
      "source": [
        "#27. Multiply all elements in a set by 2.\n",
        "\n",
        "set={1,3,4,5,6,7}\n",
        "multiplied=[]\n",
        "\n",
        "for set in numbers:\n",
        "    multiplied.append(set*2)\n",
        "\n",
        "print(multiplied)"
      ],
      "metadata": {
        "colab": {
          "base_uri": "https://localhost:8080/"
        },
        "id": "Hel2Ou6QSIUs",
        "outputId": "ed4e0dcc-8050-4b19-d6a4-91dd715f582b"
      },
      "execution_count": 49,
      "outputs": [
        {
          "output_type": "stream",
          "name": "stdout",
          "text": [
            "[2, 6, 8, 10, 12, 14]\n"
          ]
        }
      ]
    },
    {
      "cell_type": "code",
      "source": [
        "#28. Create a set of random numbers.\n",
        "\n",
        "import random\n",
        "\n",
        "N = 7\n",
        "R = 11\n",
        "res = {divmod(ele, R + 1) for ele in random.sample(range((R + 1) * (R + 1)), N)}\n",
        "\n",
        "print(\"The N random tuples : \" + str(res))"
      ],
      "metadata": {
        "colab": {
          "base_uri": "https://localhost:8080/"
        },
        "id": "vG8UM1xqUDI_",
        "outputId": "52f075ff-3df0-440a-d4d1-144ce6f4a35c"
      },
      "execution_count": 50,
      "outputs": [
        {
          "output_type": "stream",
          "name": "stdout",
          "text": [
            "The N random tuples : {(6, 2), (7, 1), (3, 10), (7, 6), (6, 10), (4, 8), (7, 8)}\n"
          ]
        }
      ]
    },
    {
      "cell_type": "code",
      "source": [
        "#29. Check if a set is empty.\n",
        "\n",
        "set1={1,2,3,4,5,6,7}\n",
        "set2={}\n",
        "if not set1:\n",
        "    print (\"set is empty\")\n",
        "    if not set2:\n",
        "      print(\"set is empty\")\n",
        "else:\n",
        "    print (\"set is not empty\")"
      ],
      "metadata": {
        "colab": {
          "base_uri": "https://localhost:8080/"
        },
        "id": "JHTSpDcJVW-z",
        "outputId": "fadc5669-5ce3-4d87-b662-9b6604df07e7"
      },
      "execution_count": 53,
      "outputs": [
        {
          "output_type": "stream",
          "name": "stdout",
          "text": [
            "set is not empty\n"
          ]
        }
      ]
    },
    {
      "cell_type": "code",
      "source": [
        "#30. Create a nested set (hint: use frozenset).\n",
        "x=55\n",
        "\n",
        "if x > 10:\n",
        "  print(\"Above ten\")\n",
        "  if x< 20:\n",
        "    print(\"also above 20!\")\n",
        "  else:\n",
        "    print(\"not above 20\")\n"
      ],
      "metadata": {
        "colab": {
          "base_uri": "https://localhost:8080/"
        },
        "id": "XTpdED4RXgg1",
        "outputId": "e1c37cd3-189e-4f4e-8cea-c6fa04ef9b81"
      },
      "execution_count": 64,
      "outputs": [
        {
          "output_type": "stream",
          "name": "stdout",
          "text": [
            "Above ten\n",
            "not above 20\n"
          ]
        }
      ]
    },
    {
      "cell_type": "code",
      "source": [
        "#31. Remove an element from a set using the discard method.\n",
        "\n",
        "set = {2, 3, 4, 5}\n",
        "set.discard(3)\n",
        "print(set)\n"
      ],
      "metadata": {
        "colab": {
          "base_uri": "https://localhost:8080/"
        },
        "id": "4gwluq5eY6JQ",
        "outputId": "39899844-1248-4aa5-e3c3-353e17f21ac8"
      },
      "execution_count": 70,
      "outputs": [
        {
          "output_type": "stream",
          "name": "stdout",
          "text": [
            "{2, 4, 5}\n"
          ]
        }
      ]
    },
    {
      "cell_type": "code",
      "source": [
        "#32. Compare two sets.\n",
        "\n",
        "set={1,2,3,4,5}\n",
        "set1={4,5,6,7,8,9}\n",
        "set2={2,3,9,8,7,10,11}\n",
        "\n",
        "print(set < ste1)\n",
        "print(set1 > set2)\n",
        "print(set == set2)"
      ],
      "metadata": {
        "colab": {
          "base_uri": "https://localhost:8080/"
        },
        "id": "dVNyZ_m5aa6n",
        "outputId": "2063e6be-2b68-4e6b-a1b7-19296e1879b3"
      },
      "execution_count": 74,
      "outputs": [
        {
          "output_type": "stream",
          "name": "stdout",
          "text": [
            "False\n",
            "False\n",
            "False\n"
          ]
        }
      ]
    },
    {
      "cell_type": "code",
      "source": [
        "#33. Create a set from a string.\n",
        "\n",
        "student_id = {11, 14, 16,118, 15}\n",
        "print('Student ID:', student_id)\n",
        "\n",
        "vowel_letters = {'a', 'e', 'i', 'o', 'u'}\n",
        "print('Vowel Letters:', vowel_letters)\n"
      ],
      "metadata": {
        "colab": {
          "base_uri": "https://localhost:8080/"
        },
        "id": "QPocGp3cbxmx",
        "outputId": "11130867-6969-488f-8e4f-2a375a9fcd87"
      },
      "execution_count": 79,
      "outputs": [
        {
          "output_type": "stream",
          "name": "stdout",
          "text": [
            "Student ID: {16, 118, 11, 14, 15}\n",
            "Vowel Letters: {'e', 'a', 'o', 'u', 'i'}\n"
          ]
        }
      ]
    },
    {
      "cell_type": "code",
      "source": [
        "#34. Convert a set of strings to a set of integers.\n",
        "\n",
        "num = '10'\n",
        "converted_num = int(num)\n",
        "print(converted_num + 20)"
      ],
      "metadata": {
        "colab": {
          "base_uri": "https://localhost:8080/"
        },
        "id": "WQF69g64cxSO",
        "outputId": "d5fb2b7f-4310-4cb8-b048-b40740319f87"
      },
      "execution_count": 81,
      "outputs": [
        {
          "output_type": "stream",
          "name": "stdout",
          "text": [
            "30\n"
          ]
        }
      ]
    },
    {
      "cell_type": "code",
      "source": [
        "#35. Convert a set of integers to a set of strings.\n",
        "\n",
        "num = 10\n",
        "\n",
        "converted_num = str(num)\n",
        "print(converted_num)"
      ],
      "metadata": {
        "colab": {
          "base_uri": "https://localhost:8080/"
        },
        "id": "XCpDSPStdr4g",
        "outputId": "4fe10133-5d25-4c36-b123-6f61f20353b9"
      },
      "execution_count": 86,
      "outputs": [
        {
          "output_type": "stream",
          "name": "stdout",
          "text": [
            "10\n"
          ]
        }
      ]
    },
    {
      "cell_type": "code",
      "source": [
        "#36. Create a set from a tuple.\n",
        "\n",
        "set={1,2,3,4,5}\n",
        "converted_tuple = str(set)\n",
        "print(converted_tuple)\n"
      ],
      "metadata": {
        "colab": {
          "base_uri": "https://localhost:8080/"
        },
        "id": "HytOgFHYeGXy",
        "outputId": "3cfb56ee-ff52-4ef9-99a5-31bb6ad6574a"
      },
      "execution_count": 108,
      "outputs": [
        {
          "output_type": "stream",
          "name": "stdout",
          "text": [
            "{1, 2, 3, 4, 5}\n"
          ]
        }
      ]
    },
    {
      "cell_type": "code",
      "source": [
        "#37. Convert a set to a tuple.\n",
        "\n",
        "\n",
        "mySet = {'apple', 'banana', 'cherry'}\n",
        "output = str(mySet)\n",
        "print(f'Tuple : {output}')\n",
        "\n"
      ],
      "metadata": {
        "colab": {
          "base_uri": "https://localhost:8080/"
        },
        "id": "vzOyB5nMe68Q",
        "outputId": "ac413efe-9013-4fcf-c03e-e1187dc546de"
      },
      "execution_count": 111,
      "outputs": [
        {
          "output_type": "stream",
          "name": "stdout",
          "text": [
            "Tuple : {'cherry', 'banana', 'apple'}\n"
          ]
        }
      ]
    },
    {
      "cell_type": "code",
      "source": [
        "#38. Find the maximum value in a set.\n",
        "\n",
        "numbers = {5, 2, 8, 1, 9, 2, 18}\n",
        "maximum = max(numbers)\n",
        "\n",
        "print(\"Maximum value:\", maximum)"
      ],
      "metadata": {
        "colab": {
          "base_uri": "https://localhost:8080/"
        },
        "id": "rALMxamvip2i",
        "outputId": "c95031ff-bdd9-4893-b93d-9319ba42f55c"
      },
      "execution_count": 121,
      "outputs": [
        {
          "output_type": "stream",
          "name": "stdout",
          "text": [
            "Maximum value: 18\n"
          ]
        }
      ]
    },
    {
      "cell_type": "code",
      "source": [
        "#40. Create a set from user input.\n",
        "\n",
        "numbers = {5, 2, 8, 1, 9, 2, 18}\n",
        "minimum = min(numbers)\n",
        "print(\"Minimum value:\", minimum)"
      ],
      "metadata": {
        "colab": {
          "base_uri": "https://localhost:8080/"
        },
        "id": "1Swe0arctrEo",
        "outputId": "74a81210-99d3-41b1-8abc-9ee03311074e"
      },
      "execution_count": 122,
      "outputs": [
        {
          "output_type": "stream",
          "name": "stdout",
          "text": [
            "Minimum value: 1\n"
          ]
        }
      ]
    },
    {
      "cell_type": "code",
      "source": [
        "#41. Check if the intersection of two sets is empty.\n",
        "A = {1, 2, 3}\n",
        "B = {2, 3, 4}\n",
        "\n",
        "AnB = A.intersection(B)\n",
        "print(AnB)\n",
        "\n"
      ],
      "metadata": {
        "colab": {
          "base_uri": "https://localhost:8080/"
        },
        "id": "N4Pg3DT02CL1",
        "outputId": "2aa838f3-da6c-4631-bc26-b2cc9daad38d"
      },
      "execution_count": 123,
      "outputs": [
        {
          "output_type": "stream",
          "name": "stdout",
          "text": [
            "{2, 3}\n"
          ]
        }
      ]
    },
    {
      "cell_type": "code",
      "source": [
        "#42. Create a set of the first 5 Fibonacci numbers.\n",
        "n = 5\n",
        "num1 = 0\n",
        "num2 = 1\n",
        "next_number = num2\n",
        "count = 1\n",
        "\n",
        "while count <= n:\n",
        "    print(next_number, end=\" \")\n",
        "    count += 1\n",
        "    num1, num2 = num2, next_number\n",
        "    next_number = num1 + num2\n",
        "print()\n"
      ],
      "metadata": {
        "colab": {
          "base_uri": "https://localhost:8080/"
        },
        "id": "OiEZa-x93vdy",
        "outputId": "d22b897e-6f23-4e4b-95f4-9ea0dc226591"
      },
      "execution_count": 125,
      "outputs": [
        {
          "output_type": "stream",
          "name": "stdout",
          "text": [
            "1 2 3 5 8 \n"
          ]
        }
      ]
    },
    {
      "cell_type": "code",
      "source": [
        "#43. Remove duplicates from a list using sets.\n",
        "def Remove(duplicate):\n",
        "    final_set = []\n",
        "    for num in duplicate:\n",
        "        if num not in final_set:\n",
        "            final_set.append(num)\n",
        "    return final_set\n",
        "\n",
        "# Driver Code\n",
        "duplicate = {2, 4, 10, 20, 5, 2, 20, 4}\n",
        "print(Remove(duplicate))\n"
      ],
      "metadata": {
        "colab": {
          "base_uri": "https://localhost:8080/"
        },
        "id": "Aj3E0q6ePS24",
        "outputId": "639dedb3-10bf-40c1-803e-a0fd67e2b980"
      },
      "execution_count": 129,
      "outputs": [
        {
          "output_type": "stream",
          "name": "stdout",
          "text": [
            "[2, 4, 5, 20, 10]\n"
          ]
        }
      ]
    },
    {
      "cell_type": "code",
      "source": [
        "#44. Check if two sets have the same elements, regardless of their count.\n",
        "\n",
        "\n",
        "set1 = {12,90,43,56}\n",
        "set2 = {43,56,12,90}\n",
        "set3 = {43,56,12}\n",
        "\n",
        "\n",
        "print(set1 == set2)\n",
        "print(set1 == set3)"
      ],
      "metadata": {
        "colab": {
          "base_uri": "https://localhost:8080/"
        },
        "id": "K-eF2IX9PwKn",
        "outputId": "8b60e598-fa1f-45c3-ca75-7b68931b95c7"
      },
      "execution_count": 135,
      "outputs": [
        {
          "output_type": "stream",
          "name": "stdout",
          "text": [
            "True\n",
            "False\n"
          ]
        }
      ]
    },
    {
      "cell_type": "code",
      "source": [
        "#45. Create a set of the first `n` powers of 2.\n",
        "\n",
        "def problem(n):\n",
        "  myList=[]\n",
        "  for j in range(0,n):\n",
        "    number = 2 ** j\n",
        "    myList.append(number)\n",
        "  return myList"
      ],
      "metadata": {
        "id": "KNa6Yp-FQFtp"
      },
      "execution_count": 142,
      "outputs": []
    },
    {
      "cell_type": "code",
      "source": [
        "#46. Find the common elements between a set and a list.\n",
        "def common_elements(list_1, list_2):\n",
        "    a_set = set(list_1)\n",
        "    b_set = set(list_2)\n",
        "    if len(a_set.intersection(b_set)) > 0:\n",
        "        print (list(a_set.intersection(b_set)))\n",
        "    else:\n",
        "        print(\"No common elements between the two lists\")\n"
      ],
      "metadata": {
        "id": "jS_NT0owREiz"
      },
      "execution_count": 148,
      "outputs": []
    },
    {
      "cell_type": "code",
      "source": [
        "#47. Create a set of the first `n` triangular numbers.\n",
        "\n",
        "def all_triangle_numbers(n):\n",
        "     for i in range(1, n + 1):\n",
        "        print(\"n = {0}, triangle = {1}\".format(i, (i ** 2 + i)//2))\n",
        "\n",
        "all_triangle_numbers(10)"
      ],
      "metadata": {
        "colab": {
          "base_uri": "https://localhost:8080/"
        },
        "id": "oWLY9sclTCpA",
        "outputId": "8652ad95-1685-496e-805a-4183a22f41c9"
      },
      "execution_count": 150,
      "outputs": [
        {
          "output_type": "stream",
          "name": "stdout",
          "text": [
            "n = 1, triangle = 1\n",
            "n = 2, triangle = 3\n",
            "n = 3, triangle = 6\n",
            "n = 4, triangle = 10\n",
            "n = 5, triangle = 15\n",
            "n = 6, triangle = 21\n",
            "n = 7, triangle = 28\n",
            "n = 8, triangle = 36\n",
            "n = 9, triangle = 45\n",
            "n = 10, triangle = 55\n"
          ]
        }
      ]
    },
    {
      "cell_type": "code",
      "source": [
        "#48. Check if a set contains another set as a subset\n",
        "numbers = {1, 2, 3, 4, 5}\n",
        "scores = {1, 2, 3}\n",
        "\n",
        "print(scores.issubset(numbers))\n"
      ],
      "metadata": {
        "colab": {
          "base_uri": "https://localhost:8080/"
        },
        "id": "ev7O3nsVT1GT",
        "outputId": "9b096903-19e6-49b2-c11a-01c39fbf8cc7"
      },
      "execution_count": 151,
      "outputs": [
        {
          "output_type": "stream",
          "name": "stdout",
          "text": [
            "True\n"
          ]
        }
      ]
    },
    {
      "cell_type": "code",
      "source": [
        "#49.Create a set of alternating 1s and 0s of length 'n'\n",
        "count_1 = 4\n",
        "count_0 = 3\n",
        "size = 14\n",
        "test_list = [1 if i % (count_1 + count_0) < count_1\n",
        "             else 0 for i in range(size)]\n",
        "print(\"The list after initializing : \" + str(test_list))"
      ],
      "metadata": {
        "colab": {
          "base_uri": "https://localhost:8080/"
        },
        "id": "Fq8KS1kjUO62",
        "outputId": "dbfe148c-9bb3-4475-e66d-5143bae8c13a"
      },
      "execution_count": 152,
      "outputs": [
        {
          "output_type": "stream",
          "name": "stdout",
          "text": [
            "The list after initializing : [1, 1, 1, 1, 0, 0, 0, 1, 1, 1, 1, 0, 0, 0]\n"
          ]
        }
      ]
    },
    {
      "cell_type": "code",
      "source": [
        "#50.Merge multiple sets into one\n",
        "\n",
        "set1 = { 1, 2, 3 }\n",
        "set2 = { 3, 4, 5 }\n",
        "\n",
        "new_set = set1.union(set2)\n",
        "print(new_set)"
      ],
      "metadata": {
        "colab": {
          "base_uri": "https://localhost:8080/"
        },
        "id": "41pF20yxUkbs",
        "outputId": "34daecea-f54a-425d-b222-48a3e639b3cb"
      },
      "execution_count": 154,
      "outputs": [
        {
          "output_type": "stream",
          "name": "stdout",
          "text": [
            "{1, 2, 3, 4, 5}\n"
          ]
        }
      ]
    },
    {
      "cell_type": "code",
      "source": [],
      "metadata": {
        "id": "ZIK2frCOVD-a"
      },
      "execution_count": null,
      "outputs": []
    }
  ]
}