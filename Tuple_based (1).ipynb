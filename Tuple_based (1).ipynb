{
  "nbformat": 4,
  "nbformat_minor": 0,
  "metadata": {
    "colab": {
      "provenance": []
    },
    "kernelspec": {
      "name": "python3",
      "display_name": "Python 3"
    },
    "language_info": {
      "name": "python"
    }
  },
  "cells": [
    {
      "cell_type": "code",
      "execution_count": null,
      "metadata": {
        "colab": {
          "base_uri": "https://localhost:8080/"
        },
        "id": "gwDvQGMXlx_v",
        "outputId": "b8c7eb7f-d39c-4f62-e9f2-0d01e608fe4d"
      },
      "outputs": [
        {
          "output_type": "stream",
          "name": "stdout",
          "text": [
            "(1, 2, 3, 4, 5)\n"
          ]
        }
      ],
      "source": [
        "#1. Create a tuple with integers from 1 to 5.\n",
        "t=(1,2,3,4,5)\n",
        "print(t)"
      ]
    },
    {
      "cell_type": "code",
      "source": [
        "#2. Access the third element of a tuple.\n",
        "t=(1,2,3,4,5,6)\n",
        "print(t[3])\n",
        "\n"
      ],
      "metadata": {
        "colab": {
          "base_uri": "https://localhost:8080/"
        },
        "id": "4bxnQFfYmvOw",
        "outputId": "ea642cd9-4dcb-4d25-a3c1-147b74517edc"
      },
      "execution_count": null,
      "outputs": [
        {
          "output_type": "stream",
          "name": "stdout",
          "text": [
            "4\n"
          ]
        }
      ]
    },
    {
      "cell_type": "code",
      "source": [
        "#3. Find the length of a tuple without using the `len()` function.\n",
        "a=(1,2,2,3,1,3,3)\n",
        "pos=0\n",
        "for i in a:\n",
        "    pos+=1\n",
        "print(pos)\n"
      ],
      "metadata": {
        "colab": {
          "base_uri": "https://localhost:8080/"
        },
        "id": "NP7zPrdknEha",
        "outputId": "57a9da53-0f82-4c34-b7e0-c16a3a00159f"
      },
      "execution_count": null,
      "outputs": [
        {
          "output_type": "stream",
          "name": "stdout",
          "text": [
            "7\n"
          ]
        }
      ]
    },
    {
      "cell_type": "code",
      "source": [
        "#4. Count the occurrences of an element in a tuple.\n",
        "vowels = ('a', 'e', 'i', 'o', 'i', 'u')\n",
        "count = vowels.count('i')\n",
        "\n",
        "print(count)\n",
        "\n"
      ],
      "metadata": {
        "colab": {
          "base_uri": "https://localhost:8080/"
        },
        "id": "Ym1H6QcInm_d",
        "outputId": "c80ccfa5-5121-480a-9d19-7c5a6fa89a98"
      },
      "execution_count": null,
      "outputs": [
        {
          "output_type": "stream",
          "name": "stdout",
          "text": [
            "2\n"
          ]
        }
      ]
    },
    {
      "cell_type": "code",
      "source": [
        "#5. Find the index of the first occurrence of an element in a tuple.\n",
        "my_tuple = ( 4, 2, 5, 6, 7, 5)\n",
        "print(my_tuple.index(5))\n"
      ],
      "metadata": {
        "colab": {
          "base_uri": "https://localhost:8080/"
        },
        "id": "2qL5k59RqnYk",
        "outputId": "663bce39-cd48-40f6-dd0c-552b45130ea8"
      },
      "execution_count": null,
      "outputs": [
        {
          "output_type": "stream",
          "name": "stdout",
          "text": [
            "2\n"
          ]
        }
      ]
    },
    {
      "cell_type": "code",
      "source": [
        "#6. Check if an element exists in a tuple.\n",
        "tuple1 = (5, 3, 2, 8, 4, 4, 6, 2)\n",
        "\n",
        "# Check if item 8 is present in the tuple\n",
        "if 8 in tuple1:\n",
        "    print('8 is in the tuple', tuple1)\n",
        "else:\n",
        "    print('8 is not in the tuple', tuple1)"
      ],
      "metadata": {
        "colab": {
          "base_uri": "https://localhost:8080/"
        },
        "id": "OI-4Bluwrd34",
        "outputId": "8cd44946-293e-47f4-8a00-28a0141c1db1"
      },
      "execution_count": null,
      "outputs": [
        {
          "output_type": "stream",
          "name": "stdout",
          "text": [
            "8 is in the tuple (5, 3, 2, 8, 4, 4, 6, 2)\n"
          ]
        }
      ]
    },
    {
      "cell_type": "code",
      "source": [
        "#7. Convert a tuple to a list.\n",
        "\n",
        "value = (10, 20, 30, 40, 50)\n",
        "\n",
        "p = list(value)\n",
        "print(p)"
      ],
      "metadata": {
        "colab": {
          "base_uri": "https://localhost:8080/"
        },
        "id": "WkB8dMFwtAsw",
        "outputId": "df40372a-adf4-4ab6-f1bd-ed39e1b6534b"
      },
      "execution_count": null,
      "outputs": [
        {
          "output_type": "stream",
          "name": "stdout",
          "text": [
            "[10, 20, 30, 40, 50]\n"
          ]
        }
      ]
    },
    {
      "cell_type": "code",
      "source": [
        "#8. Convert a list to a tuple.\n",
        "\n",
        "value = [10, 20, 30, 40, 50]\n",
        "\n",
        "p = tuple(value)\n",
        "print(p)"
      ],
      "metadata": {
        "colab": {
          "base_uri": "https://localhost:8080/"
        },
        "id": "HDTxWdRn7jHL",
        "outputId": "ae3a41d3-acd4-4d97-ed7a-1e34a185266b"
      },
      "execution_count": null,
      "outputs": [
        {
          "output_type": "stream",
          "name": "stdout",
          "text": [
            "(10, 20, 30, 40, 50)\n"
          ]
        }
      ]
    },
    {
      "cell_type": "code",
      "source": [
        "#9. Unpack the elements of a tuple into variables.\n",
        "a = (\"Kurlap\", 5000, \"Computer Science\")\n",
        "(college, student, type_ofcollege) = a\n",
        "\n",
        "print(college)\n",
        "\n",
        "print(student)\n",
        "print(type_ofcollege)\n"
      ],
      "metadata": {
        "colab": {
          "base_uri": "https://localhost:8080/"
        },
        "id": "2lAN2aQa9eQ1",
        "outputId": "a569f77f-9bd3-43ef-a7ef-02750f9cab3d"
      },
      "execution_count": null,
      "outputs": [
        {
          "output_type": "stream",
          "name": "stdout",
          "text": [
            "Kurlap\n",
            "5000\n",
            "Computer Science\n"
          ]
        }
      ]
    },
    {
      "cell_type": "code",
      "source": [
        "#10. Create a tuple of even numbers from 1 to 10.\n",
        "evTuple = (1,2,3,4,5,6,7,8,9,10)\n",
        "print(\"Tuple Items = \", evTuple)\n",
        "\n",
        "print(\"\\nThe Even Numbers in this evTuple Tuple are:\")\n",
        "for i in range(len(evTuple)):\n",
        "    if(evTuple[i] % 2 == 0):\n",
        "        print(evTuple[i], end = \"  \")\n",
        "\n",
        "\n"
      ],
      "metadata": {
        "colab": {
          "base_uri": "https://localhost:8080/"
        },
        "id": "Ty2AMqsQ_jGd",
        "outputId": "e92ca46b-dfdb-418e-f228-4e1e891189be"
      },
      "execution_count": null,
      "outputs": [
        {
          "output_type": "stream",
          "name": "stdout",
          "text": [
            "Tuple Items =  (1, 2, 3, 4, 5, 6, 7, 8, 9, 10)\n",
            "\n",
            "The Even Numbers in this evTuple Tuple are:\n",
            "2  4  6  8  10  "
          ]
        }
      ]
    },
    {
      "cell_type": "code",
      "source": [
        "#11. Create a tuple of odd numbers from 1 to 10.\n",
        "oddTuple=(1,2,3,4,5,6,7,8,9,10)\n",
        "print(\"Tuple Items=\",oddTuple)\n",
        "\n",
        "print(\"\\nThe Odd Numbers in this oddTuple Tuple are:\")\n",
        "for i in range(len(oddTuple)):\n",
        "  if(oddTuple[i]%2!=0):\n",
        "    print(oddTuple[i],end=\" \")\n"
      ],
      "metadata": {
        "colab": {
          "base_uri": "https://localhost:8080/"
        },
        "id": "m7A8uFZZAfLT",
        "outputId": "3cc016cf-d3d4-43de-f8bb-eef5a280f822"
      },
      "execution_count": null,
      "outputs": [
        {
          "output_type": "stream",
          "name": "stdout",
          "text": [
            "Tuple Items= (1, 2, 3, 4, 5, 6, 7, 8, 9, 10)\n",
            "\n",
            "The Odd Numbers in this oddTuple Tuple are:\n",
            "1 3 5 7 9 "
          ]
        }
      ]
    },
    {
      "cell_type": "code",
      "source": [
        "#12. Concatenate two tuples.\n",
        "tuple1=(1,2,3,4,5)\n",
        "tuple2=(5,6,7,8,9)\n",
        "print(\"The original tuple 1 : \" + str(tuple1))\n",
        "print(\"The original tuple 2 : \" + str(tuple2))\n",
        "\n",
        "res = tuple1+ tuple2\n",
        "print(\"The tuple after concatenation is : \" + str(res))"
      ],
      "metadata": {
        "colab": {
          "base_uri": "https://localhost:8080/"
        },
        "id": "lU1zM0nfEfxF",
        "outputId": "5227faab-592d-4abd-c319-34ba61f97fd1"
      },
      "execution_count": null,
      "outputs": [
        {
          "output_type": "stream",
          "name": "stdout",
          "text": [
            "The original tuple 1 : (1, 2, 3, 4, 5)\n",
            "The original tuple 2 : (5, 6, 7, 8, 9)\n",
            "The tuple after concatenation is : (1, 2, 3, 4, 5, 5, 6, 7, 8, 9)\n"
          ]
        }
      ]
    },
    {
      "cell_type": "code",
      "source": [
        "#13. Repeat a tuple three times.\n",
        "tuple=(1,2,3,4,5,6,7,8)\n",
        "print(\"The original tuple : \" + str(tuple))\n",
        "N = 3\n",
        "\n",
        "res = ((tuple, ) * N)\n",
        "print(\"The duplicated tuple elements are : \" + str(res))"
      ],
      "metadata": {
        "colab": {
          "base_uri": "https://localhost:8080/"
        },
        "id": "no-kbuZ-HLyt",
        "outputId": "81dfc342-75df-4247-d2f6-98db863c8b18"
      },
      "execution_count": null,
      "outputs": [
        {
          "output_type": "stream",
          "name": "stdout",
          "text": [
            "The original tuple : (1, 2, 3, 4, 5, 6, 7, 8)\n",
            "The duplicated tuple elements are : ((1, 2, 3, 4, 5, 6, 7, 8), (1, 2, 3, 4, 5, 6, 7, 8), (1, 2, 3, 4, 5, 6, 7, 8))\n"
          ]
        }
      ]
    },
    {
      "cell_type": "code",
      "source": [
        "#14. Check if a tuple is empty.\n",
        "t1 = ()\n",
        "t2 = (1, 2, 3)\n",
        "\n",
        "print(len(t1)==0)\n",
        "print(len(t2)==0)"
      ],
      "metadata": {
        "colab": {
          "base_uri": "https://localhost:8080/"
        },
        "id": "tw0lbEfUJzWY",
        "outputId": "c5bd43c7-d9b8-48bb-fdf8-433fcfdd2678"
      },
      "execution_count": null,
      "outputs": [
        {
          "output_type": "stream",
          "name": "stdout",
          "text": [
            "True\n",
            "False\n"
          ]
        }
      ]
    },
    {
      "cell_type": "code",
      "source": [
        "#15. Create a nested tuple.\n",
        "tuple1 = (3, 4)\n",
        "tuple2 = (5, 6)\n",
        "print(\"The original tuple 1 : \" + str(tuple1))\n",
        "print(\"The original tuple 2 : \" + str(tuple2))\n",
        "res = tuple1 + tuple2\n",
        "print(\"Tuples after Concatenating : \" + str(res))\n"
      ],
      "metadata": {
        "colab": {
          "base_uri": "https://localhost:8080/"
        },
        "id": "EdbuUgRBKKyz",
        "outputId": "fc42e6dc-e0aa-4f33-8404-79dc6e7a6f50"
      },
      "execution_count": null,
      "outputs": [
        {
          "output_type": "stream",
          "name": "stdout",
          "text": [
            "The original tuple 1 : (3, 4)\n",
            "The original tuple 2 : (5, 6)\n",
            "Tuples after Concatenating : (3, 4, 5, 6)\n"
          ]
        }
      ]
    },
    {
      "cell_type": "code",
      "source": [
        "#16. Access the first element of a nested tuple.\n",
        "p= (\"omkar\", \"prajkta\", \"yash\")\n",
        "print(p[1])\n"
      ],
      "metadata": {
        "colab": {
          "base_uri": "https://localhost:8080/"
        },
        "id": "GydUrYWFKlKa",
        "outputId": "8ebd9255-3b75-4b54-e98c-e19bc97e5757"
      },
      "execution_count": null,
      "outputs": [
        {
          "output_type": "stream",
          "name": "stdout",
          "text": [
            "prajkta\n"
          ]
        }
      ]
    },
    {
      "cell_type": "code",
      "source": [
        "#17. Create a tuple with a single element.\n",
        "tuple = (\"Gaikwad\",)\n",
        "print(type(tuple))\n",
        "\n",
        "tuple = (\"Geeks\")\n",
        "print(type(tuple))\n"
      ],
      "metadata": {
        "colab": {
          "base_uri": "https://localhost:8080/"
        },
        "id": "OwD6r1oPNvrz",
        "outputId": "b786cc89-ce36-42b9-cfed-ea6d1ddc79c3"
      },
      "execution_count": null,
      "outputs": [
        {
          "output_type": "stream",
          "name": "stdout",
          "text": [
            "<class 'tuple'>\n",
            "<class 'str'>\n"
          ]
        }
      ]
    },
    {
      "cell_type": "code",
      "source": [
        "#18. Compare two tuples.\n",
        "tuple1 = (1, 2, 3)\n",
        "tuple2 = (4, 5, 6)\n",
        "\n",
        "print(tuple1 < tuple2)\n",
        "print(tuple1 > tuple2)\n",
        "print(tuple1 == tuple2)"
      ],
      "metadata": {
        "colab": {
          "base_uri": "https://localhost:8080/"
        },
        "id": "OE8NDSdVORxl",
        "outputId": "22b346c9-d8b6-4aa4-b3d9-44ea5ca4c896"
      },
      "execution_count": null,
      "outputs": [
        {
          "output_type": "stream",
          "name": "stdout",
          "text": [
            "True\n",
            "False\n",
            "False\n"
          ]
        }
      ]
    },
    {
      "cell_type": "code",
      "source": [
        "#19. Delete a tuple.\n",
        "thistuple = (\"apple\", \"banana\", \"cherry\")\n",
        "y = list(thistuple)\n",
        "y.remove(\"apple\")\n",
        "thistuple = tuple(y)\n"
      ],
      "metadata": {
        "id": "PtMSYrnDayZr"
      },
      "execution_count": 2,
      "outputs": []
    },
    {
      "cell_type": "code",
      "source": [
        "#20. Slice a tuple.\n",
        "a = (\"a\", \"b\", \"c\", \"d\", \"e\", \"f\", \"g\", \"h\")\n",
        "x = slice(2)\n",
        "print(a[x])"
      ],
      "metadata": {
        "colab": {
          "base_uri": "https://localhost:8080/"
        },
        "id": "iseNKoCBbQ0I",
        "outputId": "485a9388-9cf8-4d08-ef6e-1e75c22dd41c"
      },
      "execution_count": null,
      "outputs": [
        {
          "output_type": "stream",
          "name": "stdout",
          "text": [
            "('a', 'b')\n"
          ]
        }
      ]
    },
    {
      "cell_type": "code",
      "source": [
        "#21. Find the maximum value in a tuple.\n",
        "\n",
        "t = (25, 17, 55, 63, 40)\n",
        "\n",
        "max_val = t[0]\n",
        "\n",
        "for i in range(len(t)):\n",
        "    if t[i] > max_val:\n",
        "        max_val = t[i]\n",
        "\n",
        "print(\"Maximum value is:\", max_val)"
      ],
      "metadata": {
        "colab": {
          "base_uri": "https://localhost:8080/"
        },
        "id": "Ac2ANtUHd1O4",
        "outputId": "2256926f-c93e-4e90-a726-e08e41ef7d32"
      },
      "execution_count": null,
      "outputs": [
        {
          "output_type": "stream",
          "name": "stdout",
          "text": [
            "Maximum value is: 63\n"
          ]
        }
      ]
    },
    {
      "cell_type": "code",
      "source": [
        "#22. Find the minimum value in a tuple.\n",
        "\n",
        "t=(1,23,43,54,7,87)\n",
        "min_val=t[0]\n",
        "for i in range(len(t)):\n",
        "  if t[i]>min_val:\n",
        "    min_val=t[i]\n",
        "\n",
        "print(\"minimum value is:\",min_val)"
      ],
      "metadata": {
        "colab": {
          "base_uri": "https://localhost:8080/"
        },
        "id": "C2CgXWxJfONA",
        "outputId": "d2fe1a6e-f112-4be0-b189-bcd29194f273"
      },
      "execution_count": null,
      "outputs": [
        {
          "output_type": "stream",
          "name": "stdout",
          "text": [
            "minimum value is: 87\n"
          ]
        }
      ]
    },
    {
      "cell_type": "code",
      "source": [
        "#23. Convert a string to a tuple of characters.\n",
        "my_tuple = ()\n",
        "print(my_tuple)\n",
        "my_tuple = (1, 2, 3)\n",
        "print(my_tuple)\n",
        "my_tuple = (1, \"Hello\", 3.4)\n",
        "print(my_tuple)\n",
        "my_tuple = (\"mouse\", [8, 4, 6], (1, 2, 3))\n",
        "print(my_tuple)"
      ],
      "metadata": {
        "colab": {
          "base_uri": "https://localhost:8080/"
        },
        "id": "HnJ0DTbwglIC",
        "outputId": "f51eba99-8d7c-4d33-b6c3-b1f07aa49ccd"
      },
      "execution_count": null,
      "outputs": [
        {
          "output_type": "stream",
          "name": "stdout",
          "text": [
            "()\n",
            "(1, 2, 3)\n",
            "(1, 'Hello', 3.4)\n",
            "('mouse', [8, 4, 6], (1, 2, 3))\n"
          ]
        }
      ]
    },
    {
      "cell_type": "code",
      "source": [
        "#24. Convert a tuple of characters to a string.\n",
        "\n",
        "def convertTuple(tup):\n",
        "        # initialize an empty string\n",
        "    str = ''\n",
        "    for item in tup:\n",
        "        str = str + item\n",
        "    return str\n",
        "\n",
        "\n",
        "# Driver code\n",
        "tuple = ('r', 'a', 'j', 'e', 'n','d','r','a')\n",
        "str = convertTuple(tuple)\n",
        "print(str)"
      ],
      "metadata": {
        "colab": {
          "base_uri": "https://localhost:8080/"
        },
        "id": "LDqKNOIykZVB",
        "outputId": "6377f309-87b1-4c22-e46c-c1da3b8992b3"
      },
      "execution_count": null,
      "outputs": [
        {
          "output_type": "stream",
          "name": "stdout",
          "text": [
            "rajendra\n"
          ]
        }
      ]
    },
    {
      "cell_type": "code",
      "source": [
        "#25. Create a tuple from multiple data types.\n",
        "\n",
        "# Define a tuple\n",
        "my_tuple = (1, 2, 3, 4, 5)\n",
        "\n",
        "# Convert the tuple to a list\n",
        "my_list = list(my_tuple)\n",
        "\n",
        "# Print the result\n",
        "print(my_list) # Output: [1, 2, 3, 4, 5]"
      ],
      "metadata": {
        "colab": {
          "base_uri": "https://localhost:8080/"
        },
        "id": "gbaAFwWUlcok",
        "outputId": "aaf623a7-d60d-4722-ffa1-807514a6866f"
      },
      "execution_count": null,
      "outputs": [
        {
          "output_type": "stream",
          "name": "stdout",
          "text": [
            "[1, 2, 3, 4, 5]\n"
          ]
        }
      ]
    },
    {
      "cell_type": "code",
      "source": [
        "#26. Check if two tuples are identical.\n",
        "\n",
        "my_list_1 = [(11, 14), (54, 58)]\n",
        "my_list_2 = [(98, 0), (10, 13)]\n",
        "\n",
        "print(\"The first list of tuple is : \")\n",
        "print(my_list_1)\n",
        "print(\"The second list of tuple is : \")\n",
        "print(my_list_2)\n",
        "\n",
        "my_result = my_list_1 == my_list_2\n",
        "\n",
        "print(\"Are the list of tuples identical?\")\n",
        "print(my_result)"
      ],
      "metadata": {
        "colab": {
          "base_uri": "https://localhost:8080/"
        },
        "id": "CvayUzw1nTrp",
        "outputId": "cc2b0fe3-19a8-4265-ae49-ebcc3f095c3b"
      },
      "execution_count": null,
      "outputs": [
        {
          "output_type": "stream",
          "name": "stdout",
          "text": [
            "The first list of tuple is : \n",
            "[(11, 14), (54, 58)]\n",
            "The second list of tuple is : \n",
            "[(98, 0), (10, 13)]\n",
            "Are the list of tuples identical?\n",
            "False\n"
          ]
        }
      ]
    },
    {
      "cell_type": "code",
      "source": [
        "#27. Sort the elements of a tuple.\n",
        "numbers = (4, 1, 3, 2)\n",
        "\n",
        "numbers = list(numbers)\n",
        "\n",
        "numbers.sort(reverse=True)\n",
        "\n",
        "print(numbers)"
      ],
      "metadata": {
        "colab": {
          "base_uri": "https://localhost:8080/"
        },
        "id": "mN-Uysh4n43a",
        "outputId": "738534d6-7256-4cd9-d528-f3dc503978d9"
      },
      "execution_count": null,
      "outputs": [
        {
          "output_type": "stream",
          "name": "stdout",
          "text": [
            "[4, 3, 2, 1]\n"
          ]
        }
      ]
    },
    {
      "cell_type": "code",
      "source": [
        "#28. Convert a tuple of integers to a tuple of strings.\n",
        "\n",
        "test_str = \"(7, 8, 9)\"\n",
        "\n",
        "\n",
        "print(\"The original string is : \" + test_str)\n",
        "res = eval(test_str)\n",
        "print(\"The tuple after conversion is : \" + str(res))"
      ],
      "metadata": {
        "colab": {
          "base_uri": "https://localhost:8080/"
        },
        "id": "otE9QfSipD_b",
        "outputId": "4998ac9d-10d3-4425-b428-fa421694322f"
      },
      "execution_count": 5,
      "outputs": [
        {
          "output_type": "stream",
          "name": "stdout",
          "text": [
            "The original string is : (7, 8, 9)\n",
            "The tuple after conversion is : (7, 8, 9)\n"
          ]
        }
      ]
    },
    {
      "cell_type": "code",
      "source": [
        " # 29. Convert a tuple of strings to a tuple of integers.\n",
        "\n",
        "myinput = \"2 3\"\n",
        "temp = myinput.split()\n",
        "print(temp)\n",
        "['2', '3']\n",
        "mytuple = tuple(myinput)\n",
        "print(mytuple)\n",
        "('2', ' ', '3')\n",
        "mytuple = tuple(myinput.split(\" \"))\n",
        "mytuple\n",
        "('2', '3')\n",
        "\n"
      ],
      "metadata": {
        "colab": {
          "base_uri": "https://localhost:8080/"
        },
        "id": "cT_e9sFir4Z1",
        "outputId": "d85d0fa0-e84c-4c97-c04f-ceeb0af6450a"
      },
      "execution_count": 6,
      "outputs": [
        {
          "output_type": "stream",
          "name": "stdout",
          "text": [
            "['2', '3']\n",
            "('2', ' ', '3')\n"
          ]
        },
        {
          "output_type": "execute_result",
          "data": {
            "text/plain": [
              "('2', '3')"
            ]
          },
          "metadata": {},
          "execution_count": 6
        }
      ]
    },
    {
      "cell_type": "code",
      "source": [
        "#30. Merge two tuples.\n",
        "tuple1=(1,2,3,4,5,6)\n",
        "tuple2=(6,7,8,9,10,11)\n",
        "merge_tuple=tuple1+tuple2\n",
        "print(merge_tuple)\n"
      ],
      "metadata": {
        "id": "6IWqSxJouCtY",
        "colab": {
          "base_uri": "https://localhost:8080/"
        },
        "outputId": "98b13cf5-1b22-4344-878a-3e03157d5237"
      },
      "execution_count": 8,
      "outputs": [
        {
          "output_type": "stream",
          "name": "stdout",
          "text": [
            "(1, 2, 3, 4, 5, 6, 6, 7, 8, 9, 10, 11)\n"
          ]
        }
      ]
    },
    {
      "cell_type": "code",
      "source": [
        "#31. Flatten a nested tuple.\n",
        "\n",
        "def flatten(test_tuple):\n",
        "\n",
        "    if isinstance(test_tuple, tuple) and len(test_tuple) == 2 and not isinstance(test_tuple[0], tuple):\n",
        "        res = [test_tuple]\n",
        "        return tuple(res)\n",
        "\n",
        "    res = []\n",
        "    for sub in test_tuple:\n",
        "        res += flatten(sub)\n",
        "    return tuple(res)\n",
        "\n",
        "test_tuple = ((4, 5), ((4, 7), (8, 9), (10, 11)), (((9, 10), (3, 4))))\n",
        "\n",
        "res = flatten(test_tuple)\n",
        "\n",
        "print(\"The flattened tuple : \" + str(res))\n"
      ],
      "metadata": {
        "colab": {
          "base_uri": "https://localhost:8080/"
        },
        "id": "Gn1OFJ8WjygD",
        "outputId": "2fe5b4a3-4c9c-410f-a649-fbff37c4c0cd"
      },
      "execution_count": 11,
      "outputs": [
        {
          "output_type": "stream",
          "name": "stdout",
          "text": [
            "The flattened tuple : ((4, 5), (4, 7), (8, 9), (10, 11), (9, 10), (3, 4))\n"
          ]
        }
      ]
    },
    {
      "cell_type": "code",
      "source": [
        "#32. Create a tuple of the first 5 prime numbers.\n",
        "for i in range(2,15):\n",
        "    for j in range(2,15):\n",
        "        if i%j == 0:\n",
        "            break\n",
        "\n",
        "    if i == j:\n",
        "        print(i,end=\",\")\n",
        "\n"
      ],
      "metadata": {
        "colab": {
          "base_uri": "https://localhost:8080/"
        },
        "id": "DXBJNwZnkWWQ",
        "outputId": "e53db809-d855-4cb4-f068-a0c0c0365849"
      },
      "execution_count": 13,
      "outputs": [
        {
          "output_type": "stream",
          "name": "stdout",
          "text": [
            "2,3,5,7,11,13,"
          ]
        }
      ]
    },
    {
      "cell_type": "code",
      "source": [
        "#33. Check if a tuple is a palindrome.\n",
        "\n",
        "\n",
        "\n",
        "# Driver code\n",
        "tuple = (1, 76, 39, 93, 67, 1)\n",
        "if(joinArray(tuple)):\n",
        "    print(\"Palindrome\")\n",
        "else:\n",
        "    print(\"not Palindrome\")\n"
      ],
      "metadata": {
        "colab": {
          "base_uri": "https://localhost:8080/"
        },
        "id": "mCrvhtIDlYY5",
        "outputId": "894f6058-8631-4b63-f12f-e08e287d080a"
      },
      "execution_count": 22,
      "outputs": [
        {
          "output_type": "stream",
          "name": "stdout",
          "text": [
            "Palindrome\n"
          ]
        }
      ]
    },
    {
      "cell_type": "code",
      "source": [
        "#34. Create a tuple of squares of numbers from 1 to 5.\n",
        "\n",
        "def square_tuple(tuple1):\n",
        "    for i in tuple1:\n",
        "        tuple1[tuple1.index(i)] = i**2\n",
        "    print(tuple1)\n",
        "\n",
        "square_tuple([1, 2, 3, 4, 5])"
      ],
      "metadata": {
        "colab": {
          "base_uri": "https://localhost:8080/"
        },
        "id": "f-CXcaVwnc2x",
        "outputId": "744ab622-1e6c-4831-f4ac-ab322e83a068"
      },
      "execution_count": 26,
      "outputs": [
        {
          "output_type": "stream",
          "name": "stdout",
          "text": [
            "[1, 16, 9, 4, 25]\n"
          ]
        }
      ]
    },
    {
      "cell_type": "code",
      "source": [
        "#35. Filter out all even numbers from a tuple.\n",
        "tuple=(1,2,3,4,5)\n",
        "out = []\n",
        "\n",
        "for num in tuple:\n",
        "    if num % 2== 0:\n",
        "        out.append(num)\n",
        "\n",
        "print(out)\n"
      ],
      "metadata": {
        "colab": {
          "base_uri": "https://localhost:8080/"
        },
        "id": "sNUbqo8WpOJ9",
        "outputId": "c7dfa7bb-42d4-4c32-8eab-57e1253ed7fe"
      },
      "execution_count": 27,
      "outputs": [
        {
          "output_type": "stream",
          "name": "stdout",
          "text": [
            "[2, 4]\n"
          ]
        }
      ]
    },
    {
      "cell_type": "code",
      "source": [
        "#36. Multiply all elements in a tuple by 2.\n",
        "\n",
        "\n",
        "numbers=(1,3,4,5,6,7)\n",
        "multiplied=[]\n",
        "\n",
        "for number in numbers:\n",
        "    multiplied.append(number*2)\n",
        "\n",
        "print(multiplied)"
      ],
      "metadata": {
        "colab": {
          "base_uri": "https://localhost:8080/"
        },
        "id": "7JiBUvwhqoiS",
        "outputId": "819c57db-c339-4804-dc0c-0460dd33e5a8"
      },
      "execution_count": 36,
      "outputs": [
        {
          "output_type": "stream",
          "name": "stdout",
          "text": [
            "[2, 6, 8, 10, 12, 14]\n"
          ]
        }
      ]
    },
    {
      "cell_type": "code",
      "source": [
        "#37. Create a tuple of random numbers.\n",
        "import random\n",
        "\n",
        "N = 5\n",
        "R = 10\n",
        "res = [divmod(ele, R + 1) for ele in random.sample(range((R + 1) * (R + 1)), N)]\n",
        "\n",
        "print(\"The N random tuples : \" + str(res))\n"
      ],
      "metadata": {
        "colab": {
          "base_uri": "https://localhost:8080/"
        },
        "id": "osahrafCrBWK",
        "outputId": "021c03e9-4052-4457-e80a-f894c0f16bc7"
      },
      "execution_count": 37,
      "outputs": [
        {
          "output_type": "stream",
          "name": "stdout",
          "text": [
            "The N random tuples : [(10, 2), (6, 6), (4, 1), (2, 0), (5, 10)]\n"
          ]
        }
      ]
    },
    {
      "cell_type": "code",
      "source": [
        "#38. Check if a tuple is sorted.\n",
        "def is_tuple_sorted(t):\n",
        "    for i in range(1, len(t)):\n",
        "        if t[i] < t[i-1]:\n",
        "            return False\n",
        "    return True\n",
        "t = (1, 2, 3, 4, 5)\n",
        "print(is_tuple_sorted(t))\n"
      ],
      "metadata": {
        "colab": {
          "base_uri": "https://localhost:8080/"
        },
        "id": "eRncNBmmsyqi",
        "outputId": "1fbbdc1b-12dc-4e76-b0f5-5ab502c736c7"
      },
      "execution_count": 39,
      "outputs": [
        {
          "output_type": "stream",
          "name": "stdout",
          "text": [
            "True\n"
          ]
        }
      ]
    },
    {
      "cell_type": "code",
      "source": [
        "#39. Rotate a tuple to the left by `n` positions.\n",
        "\n",
        "def leftShift(tup, n):\n",
        "    length = len(tup)\n",
        "    if length != 0:\n",
        "        n = n % length\n",
        "    else:\n",
        "        return joinArray(tuple)\n",
        "    return tup[n:] + tup[0:n]\n",
        "\n",
        "sample = (1,2,3,4)\n",
        "sample2 = ()\n",
        "\n",
        "print(leftShift(sample, 5))\n",
        "print(leftShift(sample, 1))\n",
        "print(leftShift(sample, 15))\n",
        "print(leftShift(sample, 3))\n",
        "print(leftShift(sample2, 4))"
      ],
      "metadata": {
        "colab": {
          "base_uri": "https://localhost:8080/"
        },
        "id": "37quq4yutJyn",
        "outputId": "cf80c151-4b41-4ca8-a439-0018767d9d33"
      },
      "execution_count": 46,
      "outputs": [
        {
          "output_type": "stream",
          "name": "stdout",
          "text": [
            "(2, 3, 4, 1)\n",
            "(2, 3, 4, 1)\n",
            "(4, 1, 2, 3)\n",
            "(4, 1, 2, 3)\n",
            "False\n"
          ]
        }
      ]
    },
    {
      "cell_type": "code",
      "source": [
        "#40. Rotate a tuple to the right by `n` positions.\n",
        "\n",
        "rotate_num = 3\n",
        "list_1 = [1, 2, 3, 4, 5, 6]\n",
        "\n",
        "print(rightRotate(list_1, rotate_num))\n"
      ],
      "metadata": {
        "colab": {
          "base_uri": "https://localhost:8080/"
        },
        "id": "y47Ud3kDt6Ah",
        "outputId": "384fe495-0c16-4ca4-c5e2-af007fa62d15"
      },
      "execution_count": 49,
      "outputs": [
        {
          "output_type": "stream",
          "name": "stdout",
          "text": [
            "[4, 5, 6, 1, 2, 3]\n"
          ]
        }
      ]
    },
    {
      "cell_type": "code",
      "source": [
        "#41. Create a tuple of the first 5 Fibonacci numbers.\n",
        "\n",
        "nterms = int(input(\"How many terms? \"))\n",
        "n1, n2 = 0, 1\n",
        "count = 0\n",
        "if nterms <= 0:\n",
        "   print(\"Please enter a positive integer\")\n",
        "elif nterms == 1:\n",
        "   print(\"Fibonacci sequence upto\",nterms,\":\")\n",
        "   print(n1)\n",
        "else:\n",
        "   print(\"Fibonacci sequence:\")\n",
        "   while count < nterms:\n",
        "       print(n1)\n",
        "       nth = n1 + n2\n",
        "       n1 = n2\n",
        "       n2 = nth\n",
        "       count += 1"
      ],
      "metadata": {
        "colab": {
          "base_uri": "https://localhost:8080/"
        },
        "id": "q7mtzzDzu9m8",
        "outputId": "a1d5618b-7c2c-47d3-e73c-0753ad0caa3b"
      },
      "execution_count": 52,
      "outputs": [
        {
          "output_type": "stream",
          "name": "stdout",
          "text": [
            "How many terms? 7\n",
            "Fibonacci sequence:\n",
            "0\n",
            "1\n",
            "1\n",
            "2\n",
            "3\n",
            "5\n",
            "8\n"
          ]
        }
      ]
    },
    {
      "cell_type": "code",
      "source": [
        "#42. Create a tuple from user input.\n",
        "\n",
        "my_tuple = tuple(input('Enter space-separated words: ').split())\n",
        "\n",
        "print(my_tuple)"
      ],
      "metadata": {
        "id": "kgE2iF0wvddM"
      },
      "execution_count": null,
      "outputs": []
    },
    {
      "cell_type": "code",
      "source": [
        "#43. Swap two elements in a tuple.\n",
        "test_list = [(3, 4), (6, 5), (7, 8)]\n",
        "\n",
        "# printing original list\n",
        "print(\"The original list is : \" + str(test_list))\n",
        "\n",
        "# Swap tuple elements in list of tuples\n",
        "# Using list comprehension\n",
        "res = [(sub[1], sub[0]) for sub in test_list]\n",
        "\n",
        "# printing result\n",
        "print(\"The swapped tuple list is : \" + str(res))\n"
      ],
      "metadata": {
        "colab": {
          "base_uri": "https://localhost:8080/"
        },
        "id": "MWqlj6WLwKJp",
        "outputId": "a65f1cf0-9254-4cc1-9ac9-7ddd090e561b"
      },
      "execution_count": 59,
      "outputs": [
        {
          "output_type": "stream",
          "name": "stdout",
          "text": [
            "The original list is : [(3, 4), (6, 5), (7, 8)]\n",
            "The swapped tuple list is : [(4, 3), (5, 6), (8, 7)]\n"
          ]
        }
      ]
    },
    {
      "cell_type": "code",
      "source": [
        "#44. Reverse the elements of a tuple.\n",
        "\n",
        "def Reverse(tuples):\n",
        "    new_tup = tuples[::-1]\n",
        "    return new_tup\n",
        "\n",
        "# Driver Code\n",
        "tuples = ('o','m','k','a','r','p','r','a','j','u')\n",
        "print(Reverse(tuples))"
      ],
      "metadata": {
        "colab": {
          "base_uri": "https://localhost:8080/"
        },
        "id": "5upTXiZ4xFVi",
        "outputId": "3586f804-aece-4c41-ea42-f9c893cef5e3"
      },
      "execution_count": 60,
      "outputs": [
        {
          "output_type": "stream",
          "name": "stdout",
          "text": [
            "('u', 'j', 'a', 'r', 'p', 'r', 'a', 'k', 'm', 'o')\n"
          ]
        }
      ]
    },
    {
      "cell_type": "code",
      "source": [
        "#45. Create a tuple of the first `n` powers of 2.\n",
        "\n",
        "def two_powers(num):\n",
        "    powers = []\n",
        "    while num != 0:\n",
        "        powers.append(num & -num)\n",
        "        num = num & (num - 1)\n",
        "    return powers"
      ],
      "metadata": {
        "id": "DjfKZebaxW4P"
      },
      "execution_count": 61,
      "outputs": []
    },
    {
      "cell_type": "code",
      "source": [
        "#46. Find the longest string in a tuple of strings.\n",
        "\n",
        "def find_longest_string(lst):\n",
        "    longest = \"\"\n",
        "    for item in lst:\n",
        "        if len(item) > len(longest):\n",
        "            longest = item\n",
        "    return longest\n",
        "\n",
        "my_list = [\"abc\", \"abcderf\", \"abcd\", \"ab\", \"a\"]\n",
        "longest_string = find_longest_string(my_list)\n",
        "print(\"Longest string:\", longest_string)"
      ],
      "metadata": {
        "colab": {
          "base_uri": "https://localhost:8080/"
        },
        "id": "k8UYIsryx4se",
        "outputId": "92896f0f-d036-4cc7-df28-73ff9877c899"
      },
      "execution_count": 62,
      "outputs": [
        {
          "output_type": "stream",
          "name": "stdout",
          "text": [
            "Longest string: abcderf\n"
          ]
        }
      ]
    },
    {
      "cell_type": "code",
      "source": [
        "#47. Find the shortest string in a tuple of strings.\n",
        "\n",
        "def smallest_string(iterable):\n",
        "    res = None\n",
        "    for x in iterable:\n",
        "        if res is None or len(x) < len(res):\n",
        "            res = x\n",
        "    return res\n",
        "\n",
        "strings = [\"i\", \"am\", \"praju\"]\n",
        "print(smallest_string(strings))"
      ],
      "metadata": {
        "colab": {
          "base_uri": "https://localhost:8080/"
        },
        "id": "rAwD6GjhyUB4",
        "outputId": "5d57bc2d-a94a-4bf5-ef48-20a8e4e95281"
      },
      "execution_count": 71,
      "outputs": [
        {
          "output_type": "stream",
          "name": "stdout",
          "text": [
            "i\n"
          ]
        }
      ]
    },
    {
      "cell_type": "code",
      "source": [
        "#48. Create a tuple of the first `n` triangular numbers.\n",
        "\n",
        "n = 9\n",
        "triangle_nums = []\n",
        "tri_num = 0\n",
        "\n",
        "for i in range(1, n + 1):\n",
        "    tri_num += i\n",
        "    triangle_nums.append(tri_num)\n",
        "\n",
        "print(triangle_nums)\n",
        ""
      ],
      "metadata": {
        "colab": {
          "base_uri": "https://localhost:8080/"
        },
        "id": "e1WBJJECy0xE",
        "outputId": "3bd67b09-6d28-4dcd-ffbf-32f705e7cc9e"
      },
      "execution_count": 75,
      "outputs": [
        {
          "output_type": "stream",
          "name": "stdout",
          "text": [
            "[1, 3, 6, 10, 15, 21, 28, 36, 45]\n"
          ]
        }
      ]
    },
    {
      "cell_type": "code",
      "source": [
        "#49. Check if a tuple contains another tuple as a subsequence.\n",
        "\n",
        "def contains_subsequence(main_tuple, sub_tuple):\n",
        "    len_main = len(main_tuple)\n",
        "    len_sub = len(sub_tuple)\n",
        "\n",
        "    for i in range(len_main - len_sub + 1):\n",
        "        if main_tuple[i:i + len_sub] == sub_tuple:\n",
        "            return True\n",
        "\n",
        "    return False\n",
        "main_tuple = [1, 2, 3, 4, 5, 6, 7]\n",
        "sub_tuple = [3, 4, 5]\n",
        "\n",
        "if contains_subsequence(main_tuple, sub_tuple):\n",
        "    print(\"main_list contains sub_list as a contiguous subsequence.\")\n",
        "else:\n",
        "    print(\"main_list does not contain sub_list as a contiguous subsequence.\")\n"
      ],
      "metadata": {
        "colab": {
          "base_uri": "https://localhost:8080/"
        },
        "id": "5cqeUZ9D0hlL",
        "outputId": "4128e98a-7bb1-4329-979f-c8a49f4e85a6"
      },
      "execution_count": 80,
      "outputs": [
        {
          "output_type": "stream",
          "name": "stdout",
          "text": [
            "main_list contains sub_list as a contiguous subsequence.\n"
          ]
        }
      ]
    },
    {
      "cell_type": "code",
      "source": [
        "#50. Create a tuple of alternating 1s and 0s of length `n`.\n",
        "\n",
        "result = []\n",
        "length = 7\n",
        "\n",
        "for i in range(length):\n",
        "\n",
        "   if i % 2 == 0:\n",
        "      result.append(1)\n",
        "   else:\n",
        "      result.append(0)\n",
        "print(result)"
      ],
      "metadata": {
        "colab": {
          "base_uri": "https://localhost:8080/"
        },
        "id": "A6a8x-dP1-7A",
        "outputId": "32f64b3f-c22d-4041-c104-75f33b284594"
      },
      "execution_count": 81,
      "outputs": [
        {
          "output_type": "stream",
          "name": "stdout",
          "text": [
            "[1, 0, 1, 0, 1, 0, 1]\n"
          ]
        }
      ]
    },
    {
      "cell_type": "code",
      "source": [],
      "metadata": {
        "id": "KxCXlIax2-C7"
      },
      "execution_count": null,
      "outputs": []
    }
  ]
}