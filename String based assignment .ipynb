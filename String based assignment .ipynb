{
 "cells": [
  {
   "cell_type": "code",
   "execution_count": 2,
   "id": "41fc8e34-3540-44eb-8e2e-5050f6f8aafd",
   "metadata": {},
   "outputs": [
    {
     "name": "stdout",
     "output_type": "stream",
     "text": [
      "The original string is : prajkta omkar yadav\n",
      "The reversed string(using recursion) is : vaday rakmo atkjarp\n"
     ]
    }
   ],
   "source": [
    "##Write a program to reverse a string\n",
    "\n",
    "def reverse(s):\n",
    "    if len(s) == 0:\n",
    "        return s\n",
    "    else:\n",
    "        return reverse(s[1:]) + s[0]\n",
    " \n",
    " \n",
    "s = \"prajkta omkar yadav\"\n",
    " \n",
    "print(\"The original string is : \", end=\"\")\n",
    "print(s)\n",
    " \n",
    "print(\"The reversed string(using recursion) is : \", end=\"\")\n",
    "print(reverse(s))\n",
    "        \n"
   ]
  },
  {
   "cell_type": "code",
   "execution_count": 1,
   "id": "f3113b1f-e3f3-48d8-880b-8429ec10b110",
   "metadata": {},
   "outputs": [
    {
     "name": "stdout",
     "output_type": "stream",
     "text": [
      "No\n"
     ]
    }
   ],
   "source": [
    "#Check if a string is a palindrome.\n",
    "\n",
    "\n",
    "\n",
    "def isPalindrome(p):\n",
    "    return p == p[::-1]\n",
    " \n",
    " ## Driver code\n",
    "p = \"prajkta\"\n",
    "ans = isPalindrome(p)\n",
    "if ans:\n",
    "    print(\"Yes\")\n",
    "else:\n",
    "    print(\"No\")\n"
   ]
  },
  {
   "cell_type": "code",
   "execution_count": 2,
   "id": "33e06144-965a-4961-8358-19d3d4cb9714",
   "metadata": {},
   "outputs": [
    {
     "name": "stdout",
     "output_type": "stream",
     "text": [
      "Original String : Rajendra gaikwad\n",
      "Uppercase String : RAJENDRA GAIKWAD\n"
     ]
    }
   ],
   "source": [
    "\n",
    "# Convert a string to uppercase.\n",
    "\n",
    "mystring = 'Rajendra gaikwad'\n",
    "print('Original String :',mystring)\n",
    "\n",
    "uppercase = mystring.upper()\n",
    "print('Uppercase String :',uppercase)\n",
    "\n",
    "\n",
    "\n",
    "\n",
    "\n",
    "\n",
    "\n",
    "\n"
   ]
  },
  {
   "cell_type": "code",
   "execution_count": 3,
   "id": "19e73e5d-944e-459d-8cf7-9c7ceba602e6",
   "metadata": {},
   "outputs": [
    {
     "name": "stdout",
     "output_type": "stream",
     "text": [
      "Original String : OMKAR YaDaV\n",
      "Lowercase String : omkar yadav\n"
     ]
    }
   ],
   "source": [
    "# Convert a string to lowercase.\n",
    "\n",
    "\n",
    "mystring = 'OMKAR YaDaV'\n",
    "print('Original String :',mystring)\n",
    "\n",
    "lowerstring = mystring.lower()\n",
    "print('Lowercase String :',lowerstring)"
   ]
  },
  {
   "cell_type": "code",
   "execution_count": 4,
   "id": "c1460b32-87b0-4f10-be99-e711f2215572",
   "metadata": {},
   "outputs": [
    {
     "name": "stdout",
     "output_type": "stream",
     "text": [
      "6\n",
      "['a', 'i', 'a', 'a', 'i', 'a']\n"
     ]
    }
   ],
   "source": [
    "# Count the number of vowels in a string.\n",
    "\n",
    "def Check_Vow(string, vowels):\n",
    "    final = [each for each in string if each in vowels]\n",
    "    print(len(final))\n",
    "    print(final)\n",
    "     \n",
    "# Driver Code\n",
    "string = \"Sarita Gaikwad\"\n",
    "vowels = \"AaEeIiOoUu\"\n",
    "Check_Vow(string, vowels);\n"
   ]
  },
  {
   "cell_type": "code",
   "execution_count": 5,
   "id": "ddc045a0-89de-487e-bbba-a087ba004b2e",
   "metadata": {},
   "outputs": [],
   "source": [
    "# Count the number of consonants in a string.\n",
    "\n",
    "def countConsonants(string):\n",
    "    num_consonants = 0\n",
    "   # to count the consonants\n",
    "    for char in string:\n",
    "        if char not in \"aeiouAEIOU \":\n",
    "            num_consonants += 1\n",
    "        return num_consonants"
   ]
  },
  {
   "cell_type": "code",
   "execution_count": 6,
   "id": "f0a9bfe8-3ace-4189-af57-da2dc4917f3f",
   "metadata": {},
   "outputs": [
    {
     "name": "stdin",
     "output_type": "stream",
     "text": [
      "Enter any string:  kuityfjhoopp\n"
     ]
    },
    {
     "name": "stdout",
     "output_type": "stream",
     "text": [
      "No of consonants: 1\n"
     ]
    }
   ],
   "source": [
    "# take input\n",
    "string = input('Enter any string: ')\n",
    "\n",
    "# calling function and display result\n",
    "print('No of consonants:',countConsonants(string))"
   ]
  },
  {
   "cell_type": "code",
   "execution_count": 7,
   "id": "a3c339e7-9d64-4a12-ae74-9de31e445c34",
   "metadata": {},
   "outputs": [
    {
     "name": "stdout",
     "output_type": "stream",
     "text": [
      "PRAJU\n"
     ]
    }
   ],
   "source": [
    "# Remove all whitespaces from a string.\n",
    "\n",
    "def remove(string):\n",
    "    return \"\".join(string.split())\n",
    " \n",
    " \n",
    " ##Driver Program\n",
    "string = ' P R A J U '\n",
    "print(remove(string))"
   ]
  },
  {
   "cell_type": "code",
   "execution_count": 8,
   "id": "924b4cde-c348-4a98-ae83-b3d4dfee1efd",
   "metadata": {},
   "outputs": [
    {
     "name": "stdout",
     "output_type": "stream",
     "text": [
      "4\n"
     ]
    }
   ],
   "source": [
    "##Find the length of a string without using the `len()` function.\n",
    "\n",
    "def findLen(str):\n",
    "    counter = 0   \n",
    "    for i in str:\n",
    "        counter += 1\n",
    "    return counter\n",
    " \n",
    " \n",
    "str = \"yash\"\n",
    "print(findLen(str))"
   ]
  },
  {
   "cell_type": "code",
   "execution_count": 9,
   "id": "577c97e6-9601-45a1-9d3b-ccb1bba7086c",
   "metadata": {},
   "outputs": [
    {
     "name": "stdout",
     "output_type": "stream",
     "text": [
      "No! it is not present\n"
     ]
    }
   ],
   "source": [
    "## Check if a string contains a specific word.\n",
    "\n",
    "MyString1 = \"Delete the age property from the object\"\n",
    " \n",
    "if \"need\" in MyString1:\n",
    "    print(\"Yes! it is present in the string\")\n",
    "else:\n",
    "    print(\"No! it is not present\")\n"
   ]
  },
  {
   "cell_type": "code",
   "execution_count": 10,
   "id": "18a0bec7-9111-4aa4-88ac-a0b786dcc81c",
   "metadata": {},
   "outputs": [
    {
     "name": "stdout",
     "output_type": "stream",
     "text": [
      "three three was a race horse, two two was three too.\n"
     ]
    }
   ],
   "source": [
    "## Replace a word in a string with another word.\n",
    "\n",
    "txt = \"one one was a race horse, two two was one too.\"\n",
    "\n",
    "x = txt.replace(\"one\", \"three\")\n",
    "\n",
    "print(x)"
   ]
  },
  {
   "cell_type": "code",
   "execution_count": 17,
   "id": "fd113729-22c7-40de-8a12-894c12ff1b04",
   "metadata": {},
   "outputs": [
    {
     "name": "stdout",
     "output_type": "stream",
     "text": [
      "The input string is: python\n",
      "Count of character 'n' is 1\n",
      "Count of character 't' is 1\n",
      "Count of character 'h' is 1\n",
      "Count of character 'y' is 1\n",
      "Count of character 'p' is 1\n",
      "Count of character 'o' is 1\n"
     ]
    }
   ],
   "source": [
    "## Count the occurrences of a word in a string.\n",
    "\n",
    "input_string = \"python\"\n",
    "print(\"The input string is:\", input_string)\n",
    "mySet = set(input_string)\n",
    "for element in mySet:\n",
    "    countOfChar = 0\n",
    "    for character in input_string:\n",
    "        if character == element:\n",
    "            countOfChar += 1\n",
    "    print(\"Count of character '{}' is {}\".format(element, countOfChar))"
   ]
  },
  {
   "cell_type": "code",
   "execution_count": 19,
   "id": "4b15102c-fecc-4509-b105-c708cf020fa3",
   "metadata": {},
   "outputs": [
    {
     "name": "stdout",
     "output_type": "stream",
     "text": [
      "First word in my string is Python\n"
     ]
    }
   ],
   "source": [
    "## Find the first occurrence of a word in a string.\n",
    "\n",
    "\n",
    "# define the string\n",
    "my_string = \"Python \"\n",
    "# Using split() method\n",
    "first_word = my_string.split()[0]\n",
    "# Printing\n",
    "print(\"First word in my string is\", first_word)\n",
    "\n"
   ]
  },
  {
   "cell_type": "code",
   "execution_count": 1,
   "id": "b1371617-513a-42ba-ac2a-eaa07744b69b",
   "metadata": {},
   "outputs": [],
   "source": [
    "## Find the last occurrence of a word in a string.\n",
    "\n",
    "def rreplace(s, old, new, occurrence):\n",
    "    li = s.rsplit(old, occurrence)\n",
    "    return new.join(li)\n",
    "    s\n",
    "    '1232425'\n",
    "    rreplace(s, '2', ' ', 2)\n",
    "    '123 4 5'\n",
    "    rreplace(s, '2', ' ', 3)\n",
    "    '1 3 4 5'\n",
    "    rreplace(s, '2', ' ', 4)\n",
    "    '1 3 4 5'\n",
    "    rreplace(s, '2', ' ', 0)\n",
    "    '1232425'"
   ]
  },
  {
   "cell_type": "code",
   "execution_count": 2,
   "id": "a3ba514e-9cae-4512-94ec-4a29e80b802c",
   "metadata": {},
   "outputs": [
    {
     "name": "stdout",
     "output_type": "stream",
     "text": [
      "['welcome', 'to', 'the', 'jungle']\n"
     ]
    }
   ],
   "source": [
    "## Split a string into a list of words.\n",
    "\n",
    "\n",
    "txt = \"welcome to the jungle\"\n",
    "\n",
    "x = txt.split()\n",
    "\n",
    "print(x)\n"
   ]
  },
  {
   "cell_type": "code",
   "execution_count": 4,
   "id": "299946f6-51de-4cc1-9c82-35aa8793b05e",
   "metadata": {},
   "outputs": [
    {
     "name": "stdout",
     "output_type": "stream",
     "text": [
      "  hello i am a pw skills student\n"
     ]
    }
   ],
   "source": [
    "## Join a list of words into a string.\n",
    "\n",
    "l = [ 'hello', 'i', 'am', \n",
    "     'a', 'pw', 'skills','student']\n",
    " \n",
    "ans = ' '\n",
    "for i in l: \n",
    "   \n",
    "  \n",
    "  ans = ans+ ' '+ i\n",
    "   \n",
    "print(ans)\n"
   ]
  },
  {
   "cell_type": "code",
   "execution_count": 6,
   "id": "d6801eb0-61c3-48ae-8fc8-2c2addff4463",
   "metadata": {},
   "outputs": [
    {
     "name": "stdout",
     "output_type": "stream",
     "text": [
      "['80', '10', '86', '00', '98', '']\n"
     ]
    }
   ],
   "source": [
    "##16. Convert a string where words are separated by spaces to one where words are separated by underscores.\n",
    "\n",
    "\n",
    "str = '80 10 86 00 98 '\n",
    "\n",
    "# Split string by single space\n",
    "omkar = str.split(' ')\n",
    "\n",
    "print(omkar)\n",
    "\n"
   ]
  },
  {
   "cell_type": "code",
   "execution_count": 7,
   "id": "f0a64d8d-a61c-496a-92b5-f11ca5bbdbe8",
   "metadata": {},
   "outputs": [
    {
     "name": "stdout",
     "output_type": "stream",
     "text": [
      "True\n"
     ]
    }
   ],
   "source": [
    "##17. Check if a string starts with a specific word or phrase.\n",
    "txt = \"Hello, welcome to my world.\"\n",
    "\n",
    "x = txt.startswith(\"Hello\")\n",
    "\n",
    "print(x)"
   ]
  },
  {
   "cell_type": "code",
   "execution_count": 8,
   "id": "e694a902-de7f-4888-a729-bbbc23b564c5",
   "metadata": {},
   "outputs": [
    {
     "name": "stdout",
     "output_type": "stream",
     "text": [
      "True\n"
     ]
    }
   ],
   "source": [
    "##18. Check if a string ends with a specific word or phrase.\n",
    "txt = \"Hello, welcome to my world.\"\n",
    "\n",
    "x = txt.endswith(\".\")\n",
    "\n",
    "print(x)"
   ]
  },
  {
   "cell_type": "code",
   "execution_count": 11,
   "id": "4be91ea6-bfc3-48f0-a281-463aff872fca",
   "metadata": {},
   "outputs": [
    {
     "name": "stdout",
     "output_type": "stream",
     "text": [
      "Hello World! Welcome To Python\n"
     ]
    }
   ],
   "source": [
    "##19. Convert a string to title case (e.g., \"hello world\" to \"Hello World\").\n",
    "def convert_to_title_case_basic(string):\n",
    "    words = string.split()\n",
    "    title_case_words = [word.capitalize() for word in words]\n",
    "    return ' '.join(title_case_words)\n",
    "\n",
    "# Example usage\n",
    "input_string = \"hello world! welcome to python\"\n",
    "output_string = convert_to_title_case_basic(input_string)\n",
    "print(output_string)"
   ]
  },
  {
   "cell_type": "code",
   "execution_count": 24,
   "id": "ee41caee-ad12-4888-b88c-c36934187405",
   "metadata": {},
   "outputs": [
    {
     "name": "stdout",
     "output_type": "stream",
     "text": [
      "Longest word: quick\n"
     ]
    }
   ],
   "source": [
    "##20. Find the longest word in a string.\n",
    "sentence = \"The quick brown fox jumps over the lazy dog\"\n",
    "\n",
    "words = sentence.split()  \n",
    "longest_word = ''  \n",
    "\n",
    "\n",
    "for word in words:\n",
    "    if len(word) > len(longest_word):\n",
    "        longest_word = word\n",
    "\n",
    "print(\"Longest word:\", longest_word)  \n"
   ]
  },
  {
   "cell_type": "code",
   "execution_count": 28,
   "id": "293784a1-6a72-4124-b08e-62c7b22b542a",
   "metadata": {},
   "outputs": [
    {
     "name": "stdout",
     "output_type": "stream",
     "text": [
      "Shortest word: The\n"
     ]
    }
   ],
   "source": [
    "##21. Find the shortest word in a string.\n",
    "sentence = \"The quick brown fox jumps over the lazy dog\"\n",
    "\n",
    "words = sentence.split()  \n",
    "\n",
    "shortest_word = words[0]  \n",
    "\n",
    "\n",
    "for word in words:\n",
    "    if len(word) < len(shortest_word):\n",
    "        shortest_word = word\n",
    "\n",
    "print(\"Shortest word:\", shortest_word)  "
   ]
  },
  {
   "cell_type": "code",
   "execution_count": 29,
   "id": "fd5ea223-6e43-4255-8f17-d47e125e5d34",
   "metadata": {},
   "outputs": [
    {
     "name": "stdout",
     "output_type": "stream",
     "text": [
      "code practice quiz geeks\n"
     ]
    }
   ],
   "source": [
    "##22. Reverse the order of words in a string.\n",
    "string = \"geeks quiz practice code\"\n",
    "\n",
    "s = string.split()[::-1]\n",
    "l = []\n",
    "for i in s:\n",
    "    \n",
    "    l.append(i)\n",
    "\n",
    "print(\" \".join(l))"
   ]
  },
  {
   "cell_type": "code",
   "execution_count": 31,
   "id": "d5b46f91-5b2a-44d9-a016-ba1d9cb93ae9",
   "metadata": {},
   "outputs": [
    {
     "name": "stdout",
     "output_type": "stream",
     "text": [
      "Checking whether omkar prajkta8010 is alphanumeric\n",
      "False\n",
      "Checking whether omkar prajkta@8010 is alphanumeric\n",
      "False\n"
     ]
    }
   ],
   "source": [
    "#23. Check if a string is alphanumeric.\n",
    "str1 = \"omkar prajkta8010\"\n",
    "str2 = \"omkar prajkta@8010\"\n",
    "\n",
    "print(\"Checking whether\",str1,\"is alphanumeric\")\n",
    "print(str1.isalnum())\n",
    "\n",
    "print(\"Checking whether\",str2,\"is alphanumeric\")\n",
    "print(str2.isalnum())"
   ]
  },
  {
   "cell_type": "code",
   "execution_count": 33,
   "id": "fd96a688-ca4d-44ac-baa2-4274ac1a4d45",
   "metadata": {},
   "outputs": [
    {
     "name": "stdout",
     "output_type": "stream",
     "text": [
      "Original String : PrajktaOmkarYadav\n",
      "Extracted numbers from the list : \n"
     ]
    }
   ],
   "source": [
    "#24. Extract all digits from a string.\n",
    "inp_str = \"PrajktaOmkarYadav\"\n",
    "\n",
    "print(\"Original String : \" + inp_str) \n",
    "num = \"\"\n",
    "for c in inp_str:\n",
    "    if c.isdigit():\n",
    "        num = num + c\n",
    "print(\"Extracted numbers from the list : \" + num) "
   ]
  },
  {
   "cell_type": "code",
   "execution_count": 35,
   "id": "b9b3b73c-1f16-4711-b1c8-562eed20fe30",
   "metadata": {},
   "outputs": [
    {
     "name": "stdout",
     "output_type": "stream",
     "text": [
      "8010\n",
      "prajkta omkar\n"
     ]
    }
   ],
   "source": [
    "#25. Extract all alphabets from a string.\n",
    "import re\n",
    " \n",
    " \n",
    "def separateNumbersAlphabets(str):\n",
    "    numbers = []\n",
    "    alphabets = []\n",
    "    res = re.split('(\\d+)', str)\n",
    "     \n",
    "    for i in res:\n",
    "        if i >= '0' and i <= '9':\n",
    "            numbers.append(i)\n",
    "        else:\n",
    "            alphabets.append(i)\n",
    "             \n",
    "    print(*numbers)\n",
    "    print(*alphabets)\n",
    " \n",
    " \n",
    "str = \"prajkta8010omkar\"\n",
    "separateNumbersAlphabets(str)"
   ]
  },
  {
   "cell_type": "code",
   "execution_count": 36,
   "id": "cd4296f4-c4c1-40dd-9cc8-c3513a6d2983",
   "metadata": {},
   "outputs": [
    {
     "name": "stdout",
     "output_type": "stream",
     "text": [
      "3\n"
     ]
    }
   ],
   "source": [
    "#26. Count the number of uppercase letters in a string.\n",
    "def count_upper_case_letters(str_obj):\n",
    "    count = 0\n",
    "    for elem in str_obj:\n",
    "        if elem.isupper():\n",
    "            count += 1\n",
    "    return count\n",
    "count = count_upper_case_letters('This is a Sample Text')\n",
    "print(count)"
   ]
  },
  {
   "cell_type": "code",
   "execution_count": 38,
   "id": "cf85bfb8-bfbc-42e7-bf89-387586de3a49",
   "metadata": {},
   "outputs": [
    {
     "name": "stdout",
     "output_type": "stream",
     "text": [
      "The number of lowercase characters is: 16\n",
      "The number of uppercase characters is: 1\n"
     ]
    }
   ],
   "source": [
    "#27. Count the number of lowercase letters in a string.\n",
    "Str=\"Tejaswiniagaikwad\"\n",
    "lower=0\n",
    "upper=0\n",
    "for i in Str:\n",
    "      if(i.islower()):\n",
    "            lower+=1\n",
    "      else:\n",
    "            upper+=1\n",
    "print(\"The number of lowercase characters is:\",lower)\n",
    "print(\"The number of uppercase characters is:\",upper)"
   ]
  },
  {
   "cell_type": "code",
   "execution_count": 39,
   "id": "b23e04fd-5a9f-4831-ae7c-e2d2db589d37",
   "metadata": {},
   "outputs": [
    {
     "name": "stdout",
     "output_type": "stream",
     "text": [
      "m\n",
      "mR\n",
      "mR.\n",
      "mR.o\n",
      "mR.oM\n",
      "mR.oMI\n",
      "mR.oMII\n"
     ]
    }
   ],
   "source": [
    "#28. Swap the case of each character in a string.\n",
    "name = 'Mr.Omii'\n",
    "name_list = []\n",
    "\n",
    "for i in name:\n",
    "    if i.isupper():\n",
    "        name_list.append(i.lower())\n",
    "    elif i.islower():\n",
    "        name_list.append(i.upper())\n",
    "    else:\n",
    "        name_list.append(i)\n",
    "\n",
    "    print(''.join(name_list))"
   ]
  },
  {
   "cell_type": "code",
   "execution_count": 41,
   "id": "f8316343-c84e-4c04-99b7-0f3c7bdb4c77",
   "metadata": {},
   "outputs": [
    {
     "name": "stdout",
     "output_type": "stream",
     "text": [
      "hello, my name is praju!\n"
     ]
    }
   ],
   "source": [
    "##29. Remove a specific word from a string.\n",
    "old_string = 'h?ello, m?y? name? is ?praju!'\n",
    "new_string = old_string.translate({ord('?'):None})\n",
    "\n",
    "print(new_string)\n"
   ]
  },
  {
   "cell_type": "code",
   "execution_count": 42,
   "id": "e2d9351a-f28e-4570-94dd-a9bba1254b77",
   "metadata": {},
   "outputs": [
    {
     "name": "stdout",
     "output_type": "stream",
     "text": [
      "True\n",
      "False\n",
      "False\n",
      "True\n",
      "True\n"
     ]
    }
   ],
   "source": [
    "#30. Check if a string is a valid email address\n",
    "\n",
    "import re\n",
    "\n",
    "def is_valid_email(email):\n",
    "    pattern = r'^([a-zA-Z0-9_\\-\\.]+)@([a-zA-Z0-9_\\-\\.]+)\\.([a-zA-Z]{2,5})$'\n",
    "    if re.match(pattern, email):\n",
    "        return True\n",
    "    else:\n",
    "        return False\n",
    "\n",
    "email1 = 'omii@gmail.com'\n",
    "email2 = 'praju.example.com'\n",
    "email3 = 'prajkta@.com'\n",
    "email4 = 'omkar@13456.com'\n",
    "email5 = 'ompraju@.com.india'\n",
    "\n",
    "print(is_valid_email(email1)) \n",
    "print(is_valid_email(email2)) \n",
    "print(is_valid_email(email3)) \n",
    "print(is_valid_email(email4)) \n",
    "print(is_valid_email(email5)) "
   ]
  },
  {
   "cell_type": "code",
   "execution_count": 47,
   "id": "cfa722e9-6ade-461a-9ba1-fb6a0ca5128c",
   "metadata": {},
   "outputs": [
    {
     "name": "stdout",
     "output_type": "stream",
     "text": [
      "Omkarprajktagmail Com\n",
      "o com\n"
     ]
    }
   ],
   "source": [
    "#31. Extract the username from an email address string.\n",
    "email = \"omkarprajktagmail.com\"\n",
    "elist = email.split('@')[0].replace('.', ' ')\n",
    "name = elist.title()\n",
    "print(name)\n",
    "unamelist = elist.split(\" \")\n",
    "print(unamelist[0][0], ''.join(unamelist[1]))\n"
   ]
  },
  {
   "cell_type": "code",
   "execution_count": 55,
   "id": "d5065d40-79a3-4957-9042-c734c5903759",
   "metadata": {},
   "outputs": [
    {
     "name": "stdout",
     "output_type": "stream",
     "text": [
      "{'women.com', 'omii.com', 'men.com', 'praju.com'}\n"
     ]
    }
   ],
   "source": [
    "#32. Extract the domain name from an email address string.\n",
    "\n",
    "email_list = [\n",
    "    \"omkar@omii.com\", \"prajkta@praju.com\", \n",
    "    \"people@men.com\", \"people@women.com\"\n",
    "]\n",
    "\n",
    "domains = set()\n",
    "\n",
    "for email in email_list:\n",
    "    domain_name = email.split(\"@\")[1]\n",
    "    domains.add(domain_name)\n",
    "\n",
    "print(domains)  "
   ]
  },
  {
   "cell_type": "code",
   "execution_count": 56,
   "id": "e3744388-b4fe-481b-ac81-0180daa2a016",
   "metadata": {},
   "outputs": [
    {
     "name": "stdout",
     "output_type": "stream",
     "text": [
      "This is a string with some multiple spaces.\n"
     ]
    }
   ],
   "source": [
    "#33. Replace multiple spaces in a string with a single space.\n",
    "import re\n",
    "\n",
    "string_multiple_spaces = \"This   is    a string      with    some   multiple    spaces.\"\n",
    "\n",
    "string_single_space = re.sub('\\s+',' ',string_multiple_spaces)\n",
    "\n",
    "print(string_single_space)"
   ]
  },
  {
   "cell_type": "code",
   "execution_count": null,
   "id": "5aa55862-4cf1-4a62-97c2-4a3d5565427e",
   "metadata": {},
   "outputs": [],
   "source": [
    "#34. Check if a string is a valid URL.\n"
   ]
  },
  {
   "cell_type": "code",
   "execution_count": null,
   "id": "daae030b-6446-4d8d-a383-4e917ccabed2",
   "metadata": {},
   "outputs": [],
   "source": [
    "#35. Extract the protocol (http or https) from a URL string.\n"
   ]
  },
  {
   "cell_type": "code",
   "execution_count": null,
   "id": "fb916dac-8b43-42e1-9275-4eae086366d7",
   "metadata": {},
   "outputs": [],
   "source": [
    "#36. Find the frequency of each character in a string.\n",
    "#37. Remove all punctuation from a string.\n",
    "#38. Check if a string contains only digits.\n",
    "#39. Check if a string contains only alphabets.\n",
    "#40. Convert a string to a list of characters.\n",
    "#41. Check if two strings are anagrams.\n",
    "#42. Encode a string using a Caesar cipher.\n",
    "#43. Decode a Caesar cipher encoded string.\n",
    "#44. Find the most frequent word in a string.\n",
    "#45. Find all unique words in a string.\n",
    "#46. Count the number of syllables in a string.\n",
    "#47. Check if a string contains any special characters.\n",
    "#48. Remove the nth word from a string.\n",
    "#49. Insert a word at the nth position in a string.\n",
    "#50. Convert a CSV string to a list of lists"
   ]
  }
 ],
 "metadata": {
  "kernelspec": {
   "display_name": "Python 3 (ipykernel)",
   "language": "python",
   "name": "python3"
  },
  "language_info": {
   "codemirror_mode": {
    "name": "ipython",
    "version": 3
   },
   "file_extension": ".py",
   "mimetype": "text/x-python",
   "name": "python",
   "nbconvert_exporter": "python",
   "pygments_lexer": "ipython3",
   "version": "3.10.8"
  }
 },
 "nbformat": 4,
 "nbformat_minor": 5
}
