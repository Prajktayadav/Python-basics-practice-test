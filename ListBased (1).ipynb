{
  "nbformat": 4,
  "nbformat_minor": 0,
  "metadata": {
    "colab": {
      "provenance": []
    },
    "kernelspec": {
      "name": "python3",
      "display_name": "Python 3"
    },
    "language_info": {
      "name": "python"
    }
  },
  "cells": [
    {
      "cell_type": "code",
      "execution_count": null,
      "metadata": {
        "colab": {
          "base_uri": "https://localhost:8080/"
        },
        "id": "iuBAVe3HL2Dr",
        "outputId": "b3be6998-58b8-4e87-d2ef-97ac00ebeb51"
      },
      "outputs": [
        {
          "output_type": "stream",
          "name": "stdout",
          "text": [
            "[1, 2, 3, 4, 5, 6, 7, 8, 9, 10]\n"
          ]
        }
      ],
      "source": [
        "#1. Create a list with integers form 1  to 10.\n",
        "p=[1,2,3,4,5,6,7,8,9,10]\n",
        "print(p)"
      ]
    },
    {
      "cell_type": "code",
      "source": [
        "#2. Find the length of a list without using the 'Len()' function.\n",
        "p=[1,2,3,4,5,6,7,8,9,10]\n",
        "len(p)"
      ],
      "metadata": {
        "colab": {
          "base_uri": "https://localhost:8080/"
        },
        "id": "MK9V3pbSMJo9",
        "outputId": "f654bb73-feff-477a-aee8-523d2a4dbf5b"
      },
      "execution_count": null,
      "outputs": [
        {
          "output_type": "execute_result",
          "data": {
            "text/plain": [
              "10"
            ]
          },
          "metadata": {},
          "execution_count": 2
        }
      ]
    },
    {
      "cell_type": "code",
      "source": [
        "#3. Append an element to the end of a list.\n",
        "p=[1,2,3,4,5,6,7,8,9,10]\n",
        "p.append(5)\n",
        "print(p)"
      ],
      "metadata": {
        "colab": {
          "base_uri": "https://localhost:8080/"
        },
        "id": "iFmwp8mOMPxr",
        "outputId": "cf41b2a5-aeaa-46db-8e4f-0e11c85859a5"
      },
      "execution_count": null,
      "outputs": [
        {
          "output_type": "stream",
          "name": "stdout",
          "text": [
            "[1, 2, 3, 4, 5, 6, 7, 8, 9, 10, 5]\n"
          ]
        }
      ]
    },
    {
      "cell_type": "code",
      "source": [
        "#4. Insert an element at a specific index in a list.\n",
        "p=[1,2,3,4,5,6,7,8,9,10]\n",
        "p.insert(2,7)\n",
        "print(p)"
      ],
      "metadata": {
        "colab": {
          "base_uri": "https://localhost:8080/"
        },
        "id": "6m1lYvFFMQUc",
        "outputId": "d0cf5d27-5e50-45fb-d081-1a3909bf381c"
      },
      "execution_count": null,
      "outputs": [
        {
          "output_type": "stream",
          "name": "stdout",
          "text": [
            "[1, 2, 7, 3, 4, 5, 6, 7, 8, 9, 10]\n"
          ]
        }
      ]
    },
    {
      "cell_type": "code",
      "source": [
        "#5. Remove an element from a list by its value.\n",
        "p=[1,2,3,4,5,6,7,8,9,10]\n",
        "p.remove(5)\n",
        "print(p)"
      ],
      "metadata": {
        "colab": {
          "base_uri": "https://localhost:8080/"
        },
        "id": "bJ2aGxZuMS9K",
        "outputId": "6e1f963d-8c2d-4e11-ab12-a210e5318624"
      },
      "execution_count": null,
      "outputs": [
        {
          "output_type": "stream",
          "name": "stdout",
          "text": [
            "[1, 2, 3, 4, 6, 7, 8, 9, 10]\n"
          ]
        }
      ]
    },
    {
      "cell_type": "code",
      "source": [
        "#6. Remove an element from a list by its index.\n",
        "p=[1,2,3,4,5,6,7,8,9,10]\n",
        "p.pop(5)\n",
        "print(p)"
      ],
      "metadata": {
        "colab": {
          "base_uri": "https://localhost:8080/"
        },
        "id": "1NeUaQIGMVFb",
        "outputId": "cecf4ea9-5291-43d3-f198-f3cd6e52c6bb"
      },
      "execution_count": null,
      "outputs": [
        {
          "output_type": "stream",
          "name": "stdout",
          "text": [
            "[1, 2, 3, 4, 5, 7, 8, 9, 10]\n"
          ]
        }
      ]
    },
    {
      "cell_type": "code",
      "source": [
        "#7. Check if an element exists in  a list.\n",
        "\n",
        "p=[1,2,3,4,5,6,7,8,9,10]\n",
        "i=5\n",
        "\n",
        "if i in p:\n",
        "    print(\"exist\")\n",
        "else:\n",
        "    print(\"not exist\")"
      ],
      "metadata": {
        "colab": {
          "base_uri": "https://localhost:8080/"
        },
        "id": "oq0Rc58eMXi8",
        "outputId": "b77c6fb1-f412-4b56-a87c-e4da3e6fc117"
      },
      "execution_count": null,
      "outputs": [
        {
          "output_type": "stream",
          "name": "stdout",
          "text": [
            "exist\n"
          ]
        }
      ]
    },
    {
      "cell_type": "code",
      "source": [
        "#8. Find the of the frist occurrence of an element in a list.\n",
        "p=[1,2,3,4,5,6,7,8,9,10]\n",
        "print(p.index(10))"
      ],
      "metadata": {
        "colab": {
          "base_uri": "https://localhost:8080/"
        },
        "id": "T3WhvmrRMaaL",
        "outputId": "496a0b3d-c101-49dd-b71f-e01be289d1d0"
      },
      "execution_count": null,
      "outputs": [
        {
          "output_type": "stream",
          "name": "stdout",
          "text": [
            "9\n"
          ]
        }
      ]
    },
    {
      "cell_type": "code",
      "source": [
        "#9. Count the occurrence of an element in a list.\n",
        "p=[1,2,3,4,5,6,7,8,9,10]\n",
        "count =p.count(5)\n",
        "print(f'{count=}')"
      ],
      "metadata": {
        "colab": {
          "base_uri": "https://localhost:8080/"
        },
        "id": "iOsZVNByMdEh",
        "outputId": "c7083bb0-2514-4327-c370-2e14412fc02a"
      },
      "execution_count": null,
      "outputs": [
        {
          "output_type": "stream",
          "name": "stdout",
          "text": [
            "count=1\n"
          ]
        }
      ]
    },
    {
      "cell_type": "code",
      "source": [
        "#10. Reverse the order of element in a list.\n",
        "p=[1,2,3,4,5,6,7,8,9,10]\n",
        "#reverse thr order of list element\n",
        "p.reverse()\n",
        "print('Reverse List:',p)"
      ],
      "metadata": {
        "colab": {
          "base_uri": "https://localhost:8080/"
        },
        "id": "VZ7WF6QDMf39",
        "outputId": "a3715ec0-a975-4bc6-c92c-e04f7ee5c378"
      },
      "execution_count": null,
      "outputs": [
        {
          "output_type": "stream",
          "name": "stdout",
          "text": [
            "Reverse List: [10, 9, 8, 7, 6, 5, 4, 3, 2, 1]\n"
          ]
        }
      ]
    },
    {
      "cell_type": "code",
      "source": [
        "#11. Sort a list in ascending order.\n",
        "p=[5,6,7,4,3,2,11,67]\n",
        "p.sort()\n",
        "print(p)"
      ],
      "metadata": {
        "colab": {
          "base_uri": "https://localhost:8080/"
        },
        "id": "1Z1N7E3aMiMn",
        "outputId": "26cfb01f-a647-4764-f755-f46c4583b515"
      },
      "execution_count": null,
      "outputs": [
        {
          "output_type": "stream",
          "name": "stdout",
          "text": [
            "[2, 3, 4, 5, 6, 7, 11, 67]\n"
          ]
        }
      ]
    },
    {
      "cell_type": "code",
      "source": [
        "#12. Sort a list in descending order.\n",
        "o=[9,5,7,8,51,65,76,98]\n",
        "print(\"Sorted in decending order:\",o)"
      ],
      "metadata": {
        "colab": {
          "base_uri": "https://localhost:8080/"
        },
        "id": "yNx3oBuEMkiq",
        "outputId": "d69a716a-543a-470a-eed7-7a9bf99610d9"
      },
      "execution_count": null,
      "outputs": [
        {
          "output_type": "stream",
          "name": "stdout",
          "text": [
            "Sorted in decending order: [9, 5, 7, 8, 51, 65, 76, 98]\n"
          ]
        }
      ]
    },
    {
      "cell_type": "code",
      "source": [
        "#13. Create a list of even numbers from 1 to 20.\n",
        "evens=[x for x in range(1,20)if x%2==0]\n",
        "\n",
        "print(evens)"
      ],
      "metadata": {
        "colab": {
          "base_uri": "https://localhost:8080/"
        },
        "id": "xBzqbn5jMnCh",
        "outputId": "8966580f-c6e6-40ea-eb50-a348dbb2a304"
      },
      "execution_count": null,
      "outputs": [
        {
          "output_type": "stream",
          "name": "stdout",
          "text": [
            "[2, 4, 6, 8, 10, 12, 14, 16, 18]\n"
          ]
        }
      ]
    },
    {
      "cell_type": "code",
      "source": [
        "#14. Create a list of odd numbers from 1 to 20.\n",
        "odd = [x for x in range(1,20)if x%2!=0]\n",
        "print(odd)"
      ],
      "metadata": {
        "colab": {
          "base_uri": "https://localhost:8080/"
        },
        "id": "mv22O6ppMrYO",
        "outputId": "5c14ed0c-3569-45d1-cd76-cbd541fd0d12"
      },
      "execution_count": null,
      "outputs": [
        {
          "output_type": "stream",
          "name": "stdout",
          "text": [
            "[1, 3, 5, 7, 9, 11, 13, 15, 17, 19]\n"
          ]
        }
      ]
    },
    {
      "cell_type": "code",
      "source": [
        "#15.Find the sum of all elements in a list.\n",
        "p=[1,2,3,4,5,6,7]\n",
        "o=sum(p)\n",
        "print(o)"
      ],
      "metadata": {
        "colab": {
          "base_uri": "https://localhost:8080/"
        },
        "id": "EtmnnwZNMtft",
        "outputId": "62db602b-230e-4977-fa25-9d53f8e0df40"
      },
      "execution_count": null,
      "outputs": [
        {
          "output_type": "stream",
          "name": "stdout",
          "text": [
            "28\n"
          ]
        }
      ]
    },
    {
      "cell_type": "code",
      "source": [
        "#16. Find the maximum value in a list.\n",
        "p=[1,2,3,4,5,6]\n",
        "max(p)\n",
        "print(max(p))"
      ],
      "metadata": {
        "colab": {
          "base_uri": "https://localhost:8080/"
        },
        "id": "hdZydyiFMxoT",
        "outputId": "bfac83fe-14a4-43fb-e360-f9db36d81a8b"
      },
      "execution_count": null,
      "outputs": [
        {
          "output_type": "stream",
          "name": "stdout",
          "text": [
            "6\n"
          ]
        }
      ]
    },
    {
      "cell_type": "code",
      "source": [
        "#17. Find the minimum value in a list.\n",
        "p=[1,3,2,4,6,7,9]\n",
        "min(p)\n",
        "print(min(p))"
      ],
      "metadata": {
        "colab": {
          "base_uri": "https://localhost:8080/"
        },
        "id": "kn4QJY5LMz2g",
        "outputId": "6c6cd089-09ef-4686-9504-bebb60d61751"
      },
      "execution_count": null,
      "outputs": [
        {
          "output_type": "stream",
          "name": "stdout",
          "text": [
            "1\n"
          ]
        }
      ]
    },
    {
      "cell_type": "code",
      "source": [
        "#18.Create a list of square of numbers from 1 to 10.\n",
        "p=[1,2,3,4,5,6,7,8,9,10]\n",
        "square_list=[]\n",
        "\n",
        "for number in p:\n",
        "    square_list.append(number**2)\n",
        "\n",
        "print(square_list)"
      ],
      "metadata": {
        "colab": {
          "base_uri": "https://localhost:8080/"
        },
        "id": "vwVnC6hoM2Wq",
        "outputId": "1b04e92d-b7b0-4088-9e0d-91f26a270c12"
      },
      "execution_count": null,
      "outputs": [
        {
          "output_type": "stream",
          "name": "stdout",
          "text": [
            "[1, 4, 9, 16, 25, 36, 49, 64, 81, 100]\n"
          ]
        }
      ]
    },
    {
      "cell_type": "code",
      "source": [
        "#19. Create a list of random numbers.\n",
        "\n",
        "import random\n",
        "randomlist=[]\n",
        "for i in range(1,10):\n",
        "    n=random.randint(1,30)\n",
        "    randomlist.append(n)\n",
        "    print(randomlist)"
      ],
      "metadata": {
        "colab": {
          "base_uri": "https://localhost:8080/"
        },
        "id": "Ps3Ymwh0M4sd",
        "outputId": "59243481-360a-44c7-81e6-6c9ad617454d"
      },
      "execution_count": null,
      "outputs": [
        {
          "output_type": "stream",
          "name": "stdout",
          "text": [
            "[10]\n",
            "[10, 3]\n",
            "[10, 3, 23]\n",
            "[10, 3, 23, 6]\n",
            "[10, 3, 23, 6, 20]\n",
            "[10, 3, 23, 6, 20, 24]\n",
            "[10, 3, 23, 6, 20, 24, 1]\n",
            "[10, 3, 23, 6, 20, 24, 1, 22]\n",
            "[10, 3, 23, 6, 20, 24, 1, 22, 20]\n"
          ]
        }
      ]
    },
    {
      "cell_type": "code",
      "source": [
        "#20.Remove duplicates from a list.\n",
        "p=[1,2,3,4,5,3,2,5,3,6,7,8,56,765,4,56,67]\n",
        "p=list(dict.fromkeys(p))\n",
        "print(p)"
      ],
      "metadata": {
        "colab": {
          "base_uri": "https://localhost:8080/"
        },
        "id": "YNIfK2Y7M6-8",
        "outputId": "5faee554-869c-4ccb-9259-df6b9153a541"
      },
      "execution_count": null,
      "outputs": [
        {
          "output_type": "stream",
          "name": "stdout",
          "text": [
            "[1, 2, 3, 4, 5, 6, 7, 8, 56, 765, 67]\n"
          ]
        }
      ]
    },
    {
      "cell_type": "code",
      "source": [
        "#21.Find the common elements between two lists.\n",
        "\n",
        "p=[1,2,3,4,5,6,7,8,9,10,11,12]\n",
        "o=[11,12,13,14,1,2,3,4,5,6,7]\n",
        "list(set(p).intersection(o))"
      ],
      "metadata": {
        "colab": {
          "base_uri": "https://localhost:8080/"
        },
        "id": "dwZuK881M98k",
        "outputId": "c60b5d9d-fee6-4c79-830b-43a1f707812e"
      },
      "execution_count": null,
      "outputs": [
        {
          "output_type": "execute_result",
          "data": {
            "text/plain": [
              "[1, 2, 3, 4, 5, 6, 7, 11, 12]"
            ]
          },
          "metadata": {},
          "execution_count": 21
        }
      ]
    },
    {
      "cell_type": "code",
      "source": [
        "#22.Find the difference between two lists.\n",
        "p1=[5,10,15,25,30]\n",
        "p2=[10,20,30,40,50,60]\n",
        "p=[]\n",
        "for element in p1:\n",
        "    if element not in p2:\n",
        "        p.append(element)\n",
        "\n",
        "print(p)"
      ],
      "metadata": {
        "colab": {
          "base_uri": "https://localhost:8080/"
        },
        "id": "vM8tl21VNDSG",
        "outputId": "0330f1cd-352b-4519-c6a4-c46a20a0c539"
      },
      "execution_count": null,
      "outputs": [
        {
          "output_type": "stream",
          "name": "stdout",
          "text": [
            "[5, 15, 25]\n"
          ]
        }
      ]
    },
    {
      "cell_type": "code",
      "source": [
        "#23.Merge two lists.\n",
        "p1=[5,10,15,25,30]\n",
        "p2=[10,20,30,40,50,60]\n",
        "merged_list=p1+p2\n",
        "print(merged_list)"
      ],
      "metadata": {
        "colab": {
          "base_uri": "https://localhost:8080/"
        },
        "id": "yxERXmxtNF3u",
        "outputId": "c17d3a75-4154-4d6f-efe2-b04fa403d85a"
      },
      "execution_count": null,
      "outputs": [
        {
          "output_type": "stream",
          "name": "stdout",
          "text": [
            "[5, 10, 15, 25, 30, 10, 20, 30, 40, 50, 60]\n"
          ]
        }
      ]
    },
    {
      "cell_type": "code",
      "source": [
        "#24. Multiply all elements in a list by 2.\n",
        "\n",
        "numbers=[1,3,4,5,6,7]\n",
        "multiplied=[]\n",
        "\n",
        "for number in numbers:\n",
        "    multiplied.append(number*2)\n",
        "\n",
        "print(multiplied)"
      ],
      "metadata": {
        "colab": {
          "base_uri": "https://localhost:8080/"
        },
        "id": "OvtcGJyZNIDB",
        "outputId": "bcdfe8ef-3def-459d-b93d-e0eb071f493b"
      },
      "execution_count": null,
      "outputs": [
        {
          "output_type": "stream",
          "name": "stdout",
          "text": [
            "[2, 6, 8, 10, 12, 14]\n"
          ]
        }
      ]
    },
    {
      "cell_type": "code",
      "source": [
        "#25. Filter out all even numbers from a list.\n",
        "\n",
        "list=[1,2,3,4,5]\n",
        "out = []\n",
        "\n",
        "for num in list:\n",
        "    if num % 2== 0:\n",
        "        out.append(num)\n",
        "\n",
        "print(out)"
      ],
      "metadata": {
        "colab": {
          "base_uri": "https://localhost:8080/"
        },
        "id": "EydHVHnBNKPv",
        "outputId": "19efdc9a-077a-4f21-c51a-a3f44abe27f1"
      },
      "execution_count": null,
      "outputs": [
        {
          "output_type": "stream",
          "name": "stdout",
          "text": [
            "[2, 4]\n"
          ]
        }
      ]
    },
    {
      "cell_type": "code",
      "source": [
        "#26. Convert a list of strings to a list of integers.\n",
        "listOfString = [\"1\",\"2\",\"3\",\"4\",\"5\",\"6\"]\n",
        "nums=[int(s) for s in listOfString]\n",
        "print(nums)"
      ],
      "metadata": {
        "colab": {
          "base_uri": "https://localhost:8080/"
        },
        "id": "AKZQyMiHNNEr",
        "outputId": "c6470847-d405-4b15-d53d-88fbac7ac3ff"
      },
      "execution_count": null,
      "outputs": [
        {
          "output_type": "stream",
          "name": "stdout",
          "text": [
            "[1, 2, 3, 4, 5, 6]\n"
          ]
        }
      ]
    },
    {
      "cell_type": "code",
      "source": [
        "#27. Convert a list of integers to a list of strings.\n",
        "list_string=[1,12,15,21,131]\n",
        "\n",
        "result =[str(x) for x in list_string]\n",
        "print(result)\n"
      ],
      "metadata": {
        "colab": {
          "base_uri": "https://localhost:8080/"
        },
        "id": "XXOwwaFNNPOZ",
        "outputId": "e259806a-fec8-4e69-cf53-f73a4c44bb71"
      },
      "execution_count": null,
      "outputs": [
        {
          "output_type": "stream",
          "name": "stdout",
          "text": [
            "['1', '12', '15', '21', '131']\n"
          ]
        }
      ]
    },
    {
      "cell_type": "code",
      "source": [
        "#28. Flatten a nested list.\n",
        "my_list =[[1],[2,3],[4,5,6,7]]\n",
        "\n",
        "flat_list=[num for sublist in my_list for num in sublist]\n",
        "print(flat_list)"
      ],
      "metadata": {
        "colab": {
          "base_uri": "https://localhost:8080/"
        },
        "id": "eY73cXDrNRma",
        "outputId": "6d760dbc-45fa-4ee5-e396-bec0a2ee57dc"
      },
      "execution_count": null,
      "outputs": [
        {
          "output_type": "stream",
          "name": "stdout",
          "text": [
            "[1, 2, 3, 4, 5, 6, 7]\n"
          ]
        }
      ]
    },
    {
      "cell_type": "code",
      "source": [
        "#29. Create a list of the first 10 fibbonacci numbers.\n",
        "\n",
        "FibArray = [0,1]\n",
        "\n",
        "def fibonacci(n):\n",
        "    if n<0:\n",
        "        print(\"Incorrect input\")\n",
        "    elif n<len(FibArray):\n",
        "        return FibArray[n]\n",
        "    else:\n",
        "        FibArray.append(fibonacci(n-1)+fibonacci(n-2))\n",
        "        return FibArray[n]\n",
        "\n",
        "#Driver Program\n",
        "print(fibonacci(10))"
      ],
      "metadata": {
        "colab": {
          "base_uri": "https://localhost:8080/"
        },
        "id": "8aoL19YCNUEz",
        "outputId": "4774adc7-3759-43df-cdab-69fcdac6e44e"
      },
      "execution_count": null,
      "outputs": [
        {
          "output_type": "stream",
          "name": "stdout",
          "text": [
            "55\n"
          ]
        }
      ]
    },
    {
      "cell_type": "code",
      "source": [
        "#30. Check if a list is sorted.\n",
        "mylist1=[1,2,3,4,5,6,7]\n",
        "mylist2=[1,2,3,4,5,6,6]\n",
        "mylist3=[1,2,3,4,2,5,6,4]\n",
        "\n",
        "def checkSortedList(newList):\n",
        "    isSorted =True\n",
        "    l=len(newList)\n",
        "    for i in range(l - 1):\n",
        "        if newList[i]>newList[i+1]:\n",
        "            isSorted = False\n",
        "    return isSorted\n",
        "\n",
        "\n",
        "mylist1=[1,2,3,4,5,6,7]\n",
        "mylist2=[1,2,3,3,4,5,5]\n",
        "mylist3=[1,2,3,4,2,5,6]\n",
        "print(\"The list {} is sorted: {}\".format(mylist1,checkSortedList(mylist1)))\n",
        "print(\"The list {} is sorted: {}\".format(mylist2,checkSortedList(mylist2)))\n",
        "print(\"The list {} is sorted: {}\".format(mylist3,checkSortedList(mylist3)))\n"
      ],
      "metadata": {
        "colab": {
          "base_uri": "https://localhost:8080/"
        },
        "id": "S4vUxw_MNW21",
        "outputId": "a8aaf875-8195-4b00-8623-f1de99a9ec8d"
      },
      "execution_count": null,
      "outputs": [
        {
          "output_type": "stream",
          "name": "stdout",
          "text": [
            "The list [1, 2, 3, 4, 5, 6, 7] is sorted: True\n",
            "The list [1, 2, 3, 3, 4, 5, 5] is sorted: True\n",
            "The list [1, 2, 3, 4, 2, 5, 6] is sorted: False\n"
          ]
        }
      ]
    },
    {
      "cell_type": "code",
      "source": [
        "#31. Rotate a list to the left by `n` positions.\n",
        "p=[1,2,3,4,5,6]\n",
        "print (\"Original list : \" + str(p))\n",
        "p = p[3:] + p[:3]\n",
        "print (\"List after left rotate by 3 : \" + str(p))\n",
        "p = p[-3:] + p[:-3]\n",
        "print (\"List after right rotate by 3(back to original) : \"\n",
        "                                        + str(p))"
      ],
      "metadata": {
        "colab": {
          "base_uri": "https://localhost:8080/"
        },
        "id": "I-PDeS11Nbal",
        "outputId": "ec9a67f6-5308-45b4-f84a-8f0bf53466a5"
      },
      "execution_count": null,
      "outputs": [
        {
          "output_type": "stream",
          "name": "stdout",
          "text": [
            "Original list : [1, 2, 3, 4, 5, 6]\n",
            "List after left rotate by 3 : [4, 5, 6, 1, 2, 3]\n",
            "List after right rotate by 3(back to original) : [1, 2, 3, 4, 5, 6]\n"
          ]
        }
      ]
    },
    {
      "cell_type": "code",
      "source": [
        "#32. Rotate a list to the right by `n` positions.\n",
        "p=[1,2,3,4,5,6]\n",
        "print (\"Original list : \" + str(p))\n",
        "p = p[4:] + p[:4]\n",
        "print (\"List after right rotate by 4 : \" + str(p))\n",
        "p = p[-4:] + p[:-4]\n",
        "print (\"List after left rotate by 4(back to original) : \"\n",
        "                                        + str(p))"
      ],
      "metadata": {
        "colab": {
          "base_uri": "https://localhost:8080/"
        },
        "id": "SUqY00vyOGzo",
        "outputId": "d64ef7df-359c-4109-9528-2e32207a513b"
      },
      "execution_count": null,
      "outputs": [
        {
          "output_type": "stream",
          "name": "stdout",
          "text": [
            "Original list : [1, 2, 3, 4, 5, 6]\n",
            "List after right rotate by 4 : [5, 6, 1, 2, 3, 4]\n",
            "List after left rotate by 4(back to original) : [1, 2, 3, 4, 5, 6]\n"
          ]
        }
      ]
    },
    {
      "cell_type": "code",
      "source": [
        "#33. Create a list of prime numbers up to 50.\n",
        "\n",
        "\n",
        "for i in range(2,50):\n",
        "    for j in range(2,50):\n",
        "        if i%j == 0:\n",
        "            break\n",
        "\n",
        "    if i == j:\n",
        "        print(i,end=\",\")"
      ],
      "metadata": {
        "colab": {
          "base_uri": "https://localhost:8080/"
        },
        "id": "23vjWug-U-CE",
        "outputId": "4e8bd1ca-7e44-459e-c83e-3dba9f214da1"
      },
      "execution_count": null,
      "outputs": [
        {
          "output_type": "stream",
          "name": "stdout",
          "text": [
            "2,3,5,7,11,13,17,19,23,29,31,37,41,43,47,"
          ]
        }
      ]
    },
    {
      "cell_type": "code",
      "source": [
        "#34. Split a list into chunks of size `n`.\n",
        "p=[1,2,3,4,5,6,7,8,9,10,11,12,13,14,15,16,17,18,19,20]\n",
        "chunk_size = 4\n",
        "chunks=[p[i:i+chunk_size]for i in range(0,len(p),chunk_size)]\n",
        "print(chunks)\n"
      ],
      "metadata": {
        "colab": {
          "base_uri": "https://localhost:8080/"
        },
        "id": "jjcxfctna51X",
        "outputId": "3943f8b9-f595-4387-c710-ec4a41e368c5"
      },
      "execution_count": null,
      "outputs": [
        {
          "output_type": "stream",
          "name": "stdout",
          "text": [
            "[[1, 2, 3, 4], [5, 6, 7, 8], [9, 10, 11, 12], [13, 14, 15, 16], [17, 18, 19, 20]]\n"
          ]
        }
      ]
    },
    {
      "cell_type": "code",
      "source": [
        "#35. Find the second largest number in a list.\n",
        "def findLargest(arr):\n",
        "    secondLargest = 0\n",
        "    largest = min(arr)\n",
        "\n",
        "    for i in range(len(arr)):\n",
        "        if arr[i] > largest:\n",
        "            secondLargest = largest\n",
        "            largest = arr[i]\n",
        "        else:\n",
        "            secondLargest = max(secondLargest, arr[i])\n",
        "    return secondLargest\n",
        "\n",
        "print(findLargest([10, 20, 4, 45, 99]))"
      ],
      "metadata": {
        "colab": {
          "base_uri": "https://localhost:8080/"
        },
        "id": "uJZWvReKcYyR",
        "outputId": "6e9ef532-b9ef-46cf-d527-71d623a33190"
      },
      "execution_count": 2,
      "outputs": [
        {
          "output_type": "stream",
          "name": "stdout",
          "text": [
            "45\n"
          ]
        }
      ]
    },
    {
      "cell_type": "code",
      "source": [
        "#36. Replace every element in a list with its square.\n",
        "def square_list(list1):\n",
        "    for i in list1:\n",
        "        list1[list1.index(i)] = i**2\n",
        "    print(list1)\n",
        "\n",
        "square_list([1, 2, 3, 4, 5])"
      ],
      "metadata": {
        "id": "6pvpI4E0dodS",
        "colab": {
          "base_uri": "https://localhost:8080/"
        },
        "outputId": "f6869a94-c459-4b98-f1a4-88c01f793aa2"
      },
      "execution_count": 3,
      "outputs": [
        {
          "output_type": "stream",
          "name": "stdout",
          "text": [
            "[1, 16, 9, 4, 25]\n"
          ]
        }
      ]
    },
    {
      "cell_type": "code",
      "source": [
        "#37. Convert a list to a dictionary where list elements become keys and their indices become values.\n",
        "def convert(list):\n",
        "   res_dict = {}\n",
        "   for i in range(0, len(list), 2):\n",
        "       res_dict[list[i]] = list[i + 1]\n",
        "   return res_dict\n",
        "\n",
        "list = ['a', 1, 'b', 2, 'c', 3]\n",
        "print(convert(list))\n",
        "\n"
      ],
      "metadata": {
        "colab": {
          "base_uri": "https://localhost:8080/"
        },
        "id": "9gXhlDjNKInN",
        "outputId": "8a266334-a29e-4d79-d1cf-bc153db76597"
      },
      "execution_count": 5,
      "outputs": [
        {
          "output_type": "stream",
          "name": "stdout",
          "text": [
            "{'a': 1, 'b': 2, 'c': 3}\n"
          ]
        }
      ]
    },
    {
      "cell_type": "code",
      "source": [
        "#38. Shuffle the elements of a list randomly.\n",
        "import random\n",
        "\n",
        "test_list = [1, 4, 5, 6, 3]\n",
        "\n",
        "print(\"The original list is : \" + str(test_list))\n",
        "\n",
        "# using random.shuffle() to shuffle a list\n",
        "random.shuffle(test_list)\n",
        "\n",
        "print(\"The shuffled list is : \" + str(test_list))\n"
      ],
      "metadata": {
        "colab": {
          "base_uri": "https://localhost:8080/"
        },
        "id": "NumjTta9K9Od",
        "outputId": "bb9beba8-fc5f-40c9-ebe2-42769eeaed4f"
      },
      "execution_count": 6,
      "outputs": [
        {
          "output_type": "stream",
          "name": "stdout",
          "text": [
            "The original list is : [1, 4, 5, 6, 3]\n",
            "The shuffled list is : [1, 6, 5, 4, 3]\n"
          ]
        }
      ]
    },
    {
      "cell_type": "code",
      "source": [
        "#39. Create a list of the first 10 factorial numbers.\n",
        "def factorial(x):\n",
        "    \"\"\"This is a recursive function\n",
        "    to find the factorial of an integer\"\"\"\n",
        "\n",
        "    if x == 1:\n",
        "        return 1\n",
        "    else:\n",
        "        return (x * factorial(x-1))\n",
        "num = 7\n",
        "result = factorial(num)\n",
        "print(\"The factorial of\", num, \"is\", result)\n"
      ],
      "metadata": {
        "colab": {
          "base_uri": "https://localhost:8080/"
        },
        "id": "Dx6SVy3GLov-",
        "outputId": "1bfe577e-08f3-4ed1-fc5a-33a1a9ee7f1d"
      },
      "execution_count": 7,
      "outputs": [
        {
          "output_type": "stream",
          "name": "stdout",
          "text": [
            "The factorial of 7 is 5040\n"
          ]
        }
      ]
    },
    {
      "cell_type": "code",
      "source": [
        "#40. Check if two lists have at least one element in common.\n",
        "\n",
        "def common_data(list1, list2):\n",
        "    result = False\n",
        "    for x in list1:\n",
        "        for y in list2:\n",
        "            if x == y:\n",
        "                result = True\n",
        "                return result\n",
        "\n",
        "    return result\n",
        "a = [1, 2, 3, 4, 5]\n",
        "b = [5, 6, 7, 8, 9]\n",
        "print(common_data(a, b))\n",
        "\n",
        "a = [1, 2, 3, 4, 5]\n",
        "b = [6, 7, 8, 9]\n",
        "print(common_data(a, b))\n"
      ],
      "metadata": {
        "colab": {
          "base_uri": "https://localhost:8080/"
        },
        "id": "D8ZrjYuxMP0m",
        "outputId": "da936e27-4f0d-497f-b76e-341effa47b77"
      },
      "execution_count": 9,
      "outputs": [
        {
          "output_type": "stream",
          "name": "stdout",
          "text": [
            "True\n",
            "False\n"
          ]
        }
      ]
    },
    {
      "cell_type": "code",
      "source": [
        "#41. Remove all elements from a list.\n",
        "myList = [1, 2, 3, 4, 5, 6, 7, 8, 9]\n",
        "print(\"The original list is:\")\n",
        "print(myList)\n",
        "while myList:\n",
        "    myList.pop()\n",
        "print(\"List after deleting all the elements:\",myList)\n"
      ],
      "metadata": {
        "colab": {
          "base_uri": "https://localhost:8080/"
        },
        "id": "2j0eJQVHM7OS",
        "outputId": "475341bf-0d36-4191-9f04-73fee0b69dfc"
      },
      "execution_count": 10,
      "outputs": [
        {
          "output_type": "stream",
          "name": "stdout",
          "text": [
            "The original list is:\n",
            "[1, 2, 3, 4, 5, 6, 7, 8, 9]\n",
            "List after deleting all the elements: []\n"
          ]
        }
      ]
    },
    {
      "cell_type": "code",
      "source": [
        "#42. Replace negative numbers in a list with 0.\n",
        "p= [1, 2, 3, 4, -1, -4, 5, -6]\n",
        "\n",
        "print(f'List before changes: {p}')\n",
        "\n",
        "p = [0 if x < 0 else x for x in p]\n",
        "\n",
        "print(f'List after changes: {p}')\n"
      ],
      "metadata": {
        "colab": {
          "base_uri": "https://localhost:8080/"
        },
        "id": "31P6ArTmNZye",
        "outputId": "310154b1-7e08-41e6-927e-b3e8da957293"
      },
      "execution_count": 12,
      "outputs": [
        {
          "output_type": "stream",
          "name": "stdout",
          "text": [
            "List before changes: [1, 2, 3, 4, -1, -4, 5, -6]\n",
            "List after changes: [1, 2, 3, 4, 0, 0, 5, 0]\n"
          ]
        }
      ]
    },
    {
      "cell_type": "code",
      "source": [
        "#43. Convert a string into a list of words.\n",
        "s=\"Prajkta\"\n",
        "x=[i for i in s]\n",
        "print(x)\n"
      ],
      "metadata": {
        "colab": {
          "base_uri": "https://localhost:8080/"
        },
        "id": "O-O0Gkq2Z5dP",
        "outputId": "d40baa17-a6a9-4b6e-d7ae-836a54f0d379"
      },
      "execution_count": 14,
      "outputs": [
        {
          "output_type": "stream",
          "name": "stdout",
          "text": [
            "['P', 'r', 'a', 'j', 'k', 't', 'a']\n"
          ]
        }
      ]
    },
    {
      "cell_type": "code",
      "source": [
        "#44. Convert a list of words into a string.\n",
        "def listToString(s):\n",
        "    str1 = \" \"\n",
        "    return (str1.join(s))\n",
        "s = ['Prajkta','omkar','yadav']\n",
        "print(listToString(s))"
      ],
      "metadata": {
        "colab": {
          "base_uri": "https://localhost:8080/"
        },
        "id": "i5MLSXTfalmi",
        "outputId": "066622e5-4e82-4123-e75c-04608f9e821b"
      },
      "execution_count": 17,
      "outputs": [
        {
          "output_type": "stream",
          "name": "stdout",
          "text": [
            "Prajkta omkar yadav\n"
          ]
        }
      ]
    },
    {
      "cell_type": "code",
      "source": [
        "# 45. Create a list of the first `n` powers of 2.\n",
        "n = int(input(\"Enter the value of n: \"))\n",
        "powers_of_2 = []\n",
        "for i in range(n):\n",
        "    power = 2 ** i\n",
        "    powers_of_2.append(power)\n",
        "print(powers_of_2)\n"
      ],
      "metadata": {
        "colab": {
          "base_uri": "https://localhost:8080/"
        },
        "id": "kOt-rSPvbIoU",
        "outputId": "63f04452-5b07-4913-8341-ce4314b98004"
      },
      "execution_count": 29,
      "outputs": [
        {
          "output_type": "stream",
          "name": "stdout",
          "text": [
            "Enter the value of n: 6\n",
            "[1, 2, 4, 8, 16, 32]\n"
          ]
        }
      ]
    },
    {
      "cell_type": "code",
      "source": [
        "#46. Find the longest string in a list of strings.\n",
        "\n",
        "\n",
        "lst=['prajkta', 'omkar', 'yadav']\n",
        "max_length,longest_element = max([(len(x),x) for x in (lst)])\n",
        "print(\"max length is: \",max_length)\n",
        "print(\"longest string is: \", longest_element)"
      ],
      "metadata": {
        "colab": {
          "base_uri": "https://localhost:8080/"
        },
        "id": "DikaML1McG4m",
        "outputId": "a997c14e-a21c-4a28-81c9-88ba9875380b"
      },
      "execution_count": 31,
      "outputs": [
        {
          "output_type": "stream",
          "name": "stdout",
          "text": [
            "max length is:  7\n",
            "longest string is:  prajkta\n"
          ]
        }
      ]
    },
    {
      "cell_type": "code",
      "source": [
        "#47. Find the shortest string in a list of strings.\n",
        "\n",
        "lst=['prajkta', 'omkar', 'prajuom']\n",
        "min_length,shortest_element = min([(len(x),x) for x in (lst)])\n",
        "print(\"min length is: \",min_length)\n",
        "print(\"longest string is: \", shortest_element)"
      ],
      "metadata": {
        "colab": {
          "base_uri": "https://localhost:8080/"
        },
        "id": "974NYIkxfof_",
        "outputId": "aabd19fb-ccc5-4993-cdae-cd320f4f44b3"
      },
      "execution_count": 33,
      "outputs": [
        {
          "output_type": "stream",
          "name": "stdout",
          "text": [
            "min length is:  5\n",
            "longest string is:  omkar\n"
          ]
        }
      ]
    },
    {
      "cell_type": "code",
      "source": [
        "#48. Create a list of the first `n` triangular numbers.\n",
        "\n",
        "n = 9\n",
        "triangle_nums = []\n",
        "tri_num = 0\n",
        "\n",
        "for i in range(1, n + 1):\n",
        "    tri_num += i\n",
        "    triangle_nums.append(tri_num)\n",
        "\n",
        "print(triangle_nums)\n"
      ],
      "metadata": {
        "colab": {
          "base_uri": "https://localhost:8080/"
        },
        "id": "6H0kXZI8gHlg",
        "outputId": "b870e4c6-d713-47cc-8fab-212cc2b3c4d2"
      },
      "execution_count": 35,
      "outputs": [
        {
          "output_type": "stream",
          "name": "stdout",
          "text": [
            "[1, 3, 6, 10, 15, 21, 28, 36, 45]\n"
          ]
        }
      ]
    },
    {
      "cell_type": "code",
      "source": [
        "#49. Check if a list contains another list as a subsequence.\n",
        "\n",
        "def contains_subsequence(main_list, sub_list):\n",
        "    len_main = len(main_list)\n",
        "    len_sub = len(sub_list)\n",
        "\n",
        "    for i in range(len_main - len_sub + 1):\n",
        "        if main_list[i:i + len_sub] == sub_list:\n",
        "            return True\n",
        "\n",
        "    return False\n",
        "main_list = [1, 2, 3, 4, 5, 6, 7]\n",
        "sub_list = [3, 4, 5]\n",
        "\n",
        "if contains_subsequence(main_list, sub_list):\n",
        "    print(\"main_list contains sub_list as a contiguous subsequence.\")\n",
        "else:\n",
        "    print(\"main_list does not contain sub_list as a contiguous subsequence.\")\n"
      ],
      "metadata": {
        "colab": {
          "base_uri": "https://localhost:8080/"
        },
        "id": "gfxv8D7-jWAP",
        "outputId": "5133f86b-44b4-440c-ab55-a6ff1f97fdd2"
      },
      "execution_count": 41,
      "outputs": [
        {
          "output_type": "stream",
          "name": "stdout",
          "text": [
            "main_list contains sub_list as a contiguous subsequence.\n"
          ]
        }
      ]
    },
    {
      "cell_type": "code",
      "source": [
        "#50. Swap two elements in a list by their indices.\n",
        "\n",
        "\n",
        "def swapPositions(list, pos1, pos2):\n",
        "\n",
        "    list[pos1], list[pos2] = list[pos2], list[pos1]\n",
        "    return list\n",
        "List = [23, 65, 19, 90]\n",
        "pos1, pos2  = 1, 3\n",
        "\n",
        "print(swapPositions(List, pos1-1, pos2-1))"
      ],
      "metadata": {
        "colab": {
          "base_uri": "https://localhost:8080/"
        },
        "id": "RhkfKKHNj6vt",
        "outputId": "91fd84bb-1644-41f8-a348-5cabfddb05e1"
      },
      "execution_count": 42,
      "outputs": [
        {
          "output_type": "stream",
          "name": "stdout",
          "text": [
            "[19, 65, 23, 90]\n"
          ]
        }
      ]
    },
    {
      "cell_type": "code",
      "source": [],
      "metadata": {
        "id": "ljI8f1aqkq7t"
      },
      "execution_count": null,
      "outputs": []
    }
  ]
}